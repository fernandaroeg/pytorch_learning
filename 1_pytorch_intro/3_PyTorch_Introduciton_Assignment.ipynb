{
 "cells": [
  {
   "cell_type": "code",
   "execution_count": 3,
   "id": "962a1db1",
   "metadata": {},
   "outputs": [],
   "source": [
    "import torch"
   ]
  },
  {
   "cell_type": "code",
   "execution_count": 5,
   "id": "e55a9b3c",
   "metadata": {},
   "outputs": [],
   "source": [
    "def ReLU(tensor):\n",
    "    \"\"\"\n",
    "    Applies the ReLU activation function to the input tensor.\n",
    "    \n",
    "    Parameters:\n",
    "    tensor (torch.Tensor): The input tensor to apply ReLU to.\n",
    "    \n",
    "    Returns:\n",
    "    torch.Tensor: The tensor after applying ReLU.\n",
    "    \"\"\"\n",
    "    return torch.clamp(tensor, min=0.0)"
   ]
  },
  {
   "cell_type": "code",
   "execution_count": 6,
   "id": "9b047337",
   "metadata": {},
   "outputs": [
    {
     "data": {
      "text/plain": [
       "'Expected output:\\ntensor([[1.0000, 2.0000, 0.0000],\\n        [2.5000, 0.0000, 6.0000]])'"
      ]
     },
     "execution_count": 6,
     "metadata": {},
     "output_type": "execute_result"
    }
   ],
   "source": [
    "# test your result\n",
    "a = torch.tensor([[1, 2, -3], [2.5, -0.2, 6]])\n",
    "ReLU(a)\n",
    "\"\"\"Expected output:\n",
    "tensor([[1.0000, 2.0000, 0.0000],\n",
    "        [2.5000, 0.0000, 6.0000]])\"\"\""
   ]
  },
  {
   "cell_type": "code",
   "execution_count": 8,
   "id": "174852a8",
   "metadata": {},
   "outputs": [],
   "source": [
    "# Version del copilot\n",
    "def softmax(tensor):\n",
    "    \"\"\"\n",
    "    Applies the softmax function to the input tensor.\n",
    "    \n",
    "    Parameters:\n",
    "    tensor (torch.Tensor): The input tensor to apply softmax to.\n",
    "    \n",
    "    Returns:\n",
    "    torch.Tensor: The tensor after applying softmax.\n",
    "    \"\"\"\n",
    "    exp_tensor = torch.exp(tensor - torch.max(tensor, dim=-1, keepdim=True).values)\n",
    "    return exp_tensor / exp_tensor.sum(dim=-1, keepdim=True)"
   ]
  },
  {
   "cell_type": "code",
   "execution_count": 10,
   "id": "fa5ff83d",
   "metadata": {},
   "outputs": [
    {
     "data": {
      "text/plain": [
       "tensor([1.8076e-04, 1.7983e-02, 9.8184e-01])"
      ]
     },
     "execution_count": 10,
     "metadata": {},
     "output_type": "execute_result"
    }
   ],
   "source": [
    "# Test your result\n",
    "a = torch.tensor([0.6, 5.2, 9.2])\n",
    "softmax(a)\n",
    "#Then, the function should return the following as output:\n",
    "#tensor([1.8076e-04, 1.7983e-02, 9.8184e-01])"
   ]
  },
  {
   "cell_type": "code",
   "execution_count": null,
   "id": "a475674e",
   "metadata": {},
   "outputs": [],
   "source": [
    "# Version Mia\n",
    "def softmax(array):\n",
    "    ###\n",
    "    output = torch.exp(array)/(torch.sum(torch.exp(array)))\n",
    "    return output\n",
    "    ###"
   ]
  },
  {
   "cell_type": "code",
   "execution_count": 12,
   "id": "2d0407b4",
   "metadata": {},
   "outputs": [
    {
     "data": {
      "text/plain": [
       "tensor([1.8076e-04, 1.7983e-02, 9.8184e-01])"
      ]
     },
     "execution_count": 12,
     "metadata": {},
     "output_type": "execute_result"
    }
   ],
   "source": [
    "# Test your result\n",
    "a = torch.tensor([0.6, 5.2, 9.2])\n",
    "softmax(a)\n",
    "#Then, the function should return the following as output:\n",
    "#tensor([1.8076e-04, 1.7983e-02, 9.8184e-01])"
   ]
  },
  {
   "cell_type": "code",
   "execution_count": 13,
   "id": "2cee44da",
   "metadata": {},
   "outputs": [],
   "source": [
    "def neural_network_neurons(W, B, X):\n",
    "    \n",
    "    ###\n",
    "    Y = torch.matmul(W,X) + B\n",
    "    return Y\n",
    "    ###"
   ]
  },
  {
   "cell_type": "code",
   "execution_count": 14,
   "id": "a7dd5ef5",
   "metadata": {},
   "outputs": [
    {
     "data": {
      "text/plain": [
       "tensor([ 4.5590, 15.5860])"
      ]
     },
     "execution_count": 14,
     "metadata": {},
     "output_type": "execute_result"
    }
   ],
   "source": [
    "# test your code\n",
    "W = torch.tensor([[1.2, 0.3, 0.1], [.01, 2.1, 0.7]])\n",
    "B = torch.tensor([2.1, 0.89])\n",
    "X = torch.tensor([0.3, 6.8, 0.59])\n",
    "\n",
    "neural_network_neurons(W, B, X)\n",
    "\n",
    "# Function should return:\n",
    "# tensor([ 4.5590, 15.5860])"
   ]
  }
 ],
 "metadata": {
  "kernelspec": {
   "display_name": "opencv-env",
   "language": "python",
   "name": "opencv-env"
  },
  "language_info": {
   "codemirror_mode": {
    "name": "ipython",
    "version": 3
   },
   "file_extension": ".py",
   "mimetype": "text/x-python",
   "name": "python",
   "nbconvert_exporter": "python",
   "pygments_lexer": "ipython3",
   "version": "3.11.9"
  }
 },
 "nbformat": 4,
 "nbformat_minor": 5
}
