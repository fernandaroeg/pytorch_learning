{
 "cells": [
  {
   "cell_type": "code",
   "execution_count": null,
   "id": "c4fa65dd",
   "metadata": {},
   "outputs": [
    {
     "name": "stdout",
     "output_type": "stream",
     "text": [
      "a: [[1 1 1]\n",
      " [1 1 1]\n",
      " [1 1 1]\n",
      " [1 1 1]]\n",
      "b: [[2 2]\n",
      " [2 2]\n",
      " [2 2]\n",
      " [2 2]]\n"
     ]
    }
   ],
   "source": [
    "import numpy as np\n",
    "\n",
    "x = [0, 0, 0]\n",
    "\n",
    "y = [[1],\n",
    "     [1],\n",
    "     [1],\n",
    "     [1]]\n",
    "\n",
    "z = [[1, 1],\n",
    "     [1, 1],\n",
    "     [1, 1],\n",
    "     [1, 1]]\n",
    "\n",
    "# convert to numpy arrays\n",
    "x = np.array(x) \n",
    "y = np.array(y)\n",
    "z = np.array(z)\n",
    "\n",
    "# check valid operations\n",
    "a = x + y\n",
    "print(\"a:\", a)\n",
    "b = z + y\n",
    "print(\"b:\", b)\n",
    "# c = x + z # not valid, shapes do not align\n",
    "# d = np.matmul((x+y), y) # not valid, x+y is a 1D array and y is 2D\n",
    "\n",
    "\"\"\"In NumPy, broadcasting is a powerful mechanism that allows arithmetic operations to be performed on arrays with different shapes.\n",
    "This is done by conceptually \"stretching\" the smaller array to match the shape of the larger array, without actually copying the data.\"\"\""
   ]
  },
  {
   "cell_type": "code",
   "execution_count": null,
   "id": "13baca7b",
   "metadata": {},
   "outputs": [],
   "source": [
    "import torch\n",
    "\n",
    "# x, w are rank-one tensors of the same dimension\n",
    "x = torch.tensor([0.0, 0.0, 0.0], requires_grad=False)\n",
    "w = torch.tensor([1.0, 1.0, 1.0], requires_grad=True)\n",
    "\n",
    "# b is rank-zero tensor\n",
    "b = torch.tensor(1.0)\n",
    "\n",
    "z = torch.matmul(w,x) + b\n",
    "y = z * z\n",
    "y.backward()\n",
    "\n",
    "w_grad = 2 * (torch.matmul(w, x) + b) * x"
   ]
  },
  {
   "cell_type": "markdown",
   "id": "5a25b39f",
   "metadata": {},
   "source": [
    "The input image size is (28, 28, 3) (colored image with RGB channel), and there is a convolutional layer with 8 filters whose kernel size is (3, 3) with no bias. What is the total number of weight parameters in the convolutional layer?\n",
    "\n",
    "3 x 3 x 3 x 8 \n",
    "\n",
    "The number of parameters does not depend on input width and height, but only on the number of input channels."
   ]
  }
 ],
 "metadata": {
  "kernelspec": {
   "display_name": "opencv-env",
   "language": "python",
   "name": "opencv-env"
  },
  "language_info": {
   "codemirror_mode": {
    "name": "ipython",
    "version": 3
   },
   "file_extension": ".py",
   "mimetype": "text/x-python",
   "name": "python",
   "nbconvert_exporter": "python",
   "pygments_lexer": "ipython3",
   "version": "3.11.9"
  }
 },
 "nbformat": 4,
 "nbformat_minor": 5
}
