{
 "cells": [
  {
   "cell_type": "markdown",
   "metadata": {},
   "source": [
    "# <font color='blue'>Table of contents</font>\n",
    "\n",
    "- [LeNet5 Architecture](#lenet)\n",
    "- [Display the Network](#display)\n",
    "- [Get the MNIST Data](#get-data)\n",
    "- [System Configuration](#sys-config)\n",
    "- [Training Configuration](#train-config)\n",
    "- [System Setup](#sys-setup)\n",
    "- [Training](#training)\n",
    "- [Validation](#validation)\n",
    "- [Main function](#main)\n",
    "- [Plot Loss](#plot-loss)\n",
    "- [Plot Accuracy](#plot-acc)\n",
    "- [Save the Model Parameters](#save-model)\n",
    "- [Load the Model Parameters](#load-model)\n",
    "- [Model Prediction](#predict)\n",
    "- [Run Inference on Sample Images](#infer)\n",
    "- [References](#refs)"
   ]
  },
  {
   "cell_type": "markdown",
   "metadata": {},
   "source": [
    "# <font style=\"color:blue\">Convolutional Neural Networks </font>\n",
    "\n",
    "In this notebook, we will construct the LeNet architecture and, use the MNIST dataset to train it.\n",
    "\n",
    "\n",
    "It was in 1998 that Yann LeCun, Leon Bottou, Yosuha Bengio and Patrick Haffner first proposed this neural network architecture for handwritten and machine-printed character recognition.\n",
    "\n",
    "Follow this notebook to get familiar with the different layers involved in creating a CNN, and learn to use it to create such a network. The training pipeline is similar to the MLP one we did last week."
   ]
  },
  {
   "cell_type": "code",
   "execution_count": 24,
   "metadata": {},
   "outputs": [],
   "source": [
    "%matplotlib inline"
   ]
  },
  {
   "cell_type": "code",
   "execution_count": 25,
   "metadata": {},
   "outputs": [],
   "source": [
    "import matplotlib.pyplot as plt  # one of the best graphics library for python"
   ]
  },
  {
   "cell_type": "code",
   "execution_count": 26,
   "metadata": {},
   "outputs": [],
   "source": [
    "import os\n",
    "import time\n",
    "\n",
    "from typing import Iterable, Tuple\n",
    "from dataclasses import dataclass\n",
    "\n",
    "import numpy as np\n",
    "import torch\n",
    "import torch.nn as nn\n",
    "import torch.optim as optim\n",
    "import torch.nn.functional as F\n",
    "\n",
    "from torchvision import datasets, transforms"
   ]
  },
  {
   "cell_type": "markdown",
   "metadata": {},
   "source": [
    "## <font style=\"color:green\">1. LeNet5 Architecture</font><a name=\"lenet\"></a>\n",
    "\n",
    "This network has two convolutional layers and three fully connected layers.\n",
    "\n",
    "The model architecture has been divided into 2 parts:\n",
    "\n",
    "\n",
    "\n",
    "1. **`body`**: This implements the Convolutional part of the network, which consists of the `2` convolutional layers. Each convolutional layer is followed by a pooling layer. It also works as a feature extractor, in classical Machine Learning terms.\n",
    "1. **`head`**: This implements the fully-connected part of the network. Consists of `3` fully-connected layers, with the last layer having the 10 output classes. It also works  as a classifier.\n",
    "\n",
    "\n",
    "Finally, after creating the network, we also define the forward function which is executed when we pass an image through the network.\n",
    "\n",
    "### <font style=\"color:green\">Convolutional Layer Function Syntax </font>\n",
    "\n",
    "```\n",
    "torch.nn.Conv2d(in_channels, out_channels, kernel_size, stride=1, padding=0, dilation=1, groups=1, bias=True, padding_mode='zeros')\n",
    "```\n",
    "Where,\n",
    "\n",
    "- **`in_channels`**: number of input channels. For example, for colored image inputs, `in_channel` must be `3`. If `out_channels` of the first `conv2d` is `6` then `in_channels` of the second `conv2d` layer must be `6`.\n",
    "\n",
    "- **`out_channel`:**  number of filters.\n",
    "\n",
    "- **`kernel_size`:** `int` or `tuple of int`. If it is `int`,  height and width will be the same. If it is a `tuple of int`, the first element will be the height (number of rows) of filter, while second element denotes its  width (number of columns) of the filter.\n",
    "\n",
    "\n",
    "- **`padding`:** padding can also be `int` or `tuple of int`. As in `kernel_size`, if it is `int` same padding will be done across the height and width.  The default is zero padding.\n",
    "\n",
    "At this point, do not consider other  argumentsas of. To know more, click [here](https://pytorch.org/docs/stable/nn.html#torch.nn.Conv2d).\n",
    "\n",
    "**Note:** There is no activation after the last linear layer. So during inference, if we want probability as the output, we need to pass the model output through `softmax`."
   ]
  },
  {
   "cell_type": "code",
   "execution_count": 4,
   "metadata": {},
   "outputs": [],
   "source": [
    "class LeNet5(nn.Module):\n",
    "    def __init__(self):\n",
    "        super().__init__()\n",
    "\n",
    "        # convolution layers\n",
    "        self._body = nn.Sequential(\n",
    "            # First convolution Layer\n",
    "            # input size = (32, 32), output size = (28, 28)\n",
    "            nn.Conv2d(in_channels=1, out_channels=6, kernel_size=5),\n",
    "            # ReLU activation\n",
    "            nn.ReLU(inplace=True),\n",
    "            # Max pool 2-d\n",
    "            nn.MaxPool2d(kernel_size=2), #gets rid of 1/2 of the pixels so (28, 28) becomes (14, 14)\n",
    "            \n",
    "            # Second convolution layer\n",
    "            # input size = (14, 14), output size = (10, 10)\n",
    "            nn.Conv2d(in_channels=6, out_channels=16, kernel_size=5),\n",
    "            nn.ReLU(inplace=True),\n",
    "            nn.MaxPool2d(kernel_size=2), #gets rid of 1/2 of the pixels so (10, 10) becomes (5, 5)\n",
    "            # output size = (5, 5)\n",
    "        )\n",
    "        \n",
    "        # Fully connected layers\n",
    "        self._head = nn.Sequential(\n",
    "            # First fully connected layer\n",
    "            # in_features = total number of weights in last conv layer = 16 * 5 * 5\n",
    "            nn.Linear(in_features=16 * 5 * 5, out_features=120), \n",
    "            \n",
    "            # ReLU activation\n",
    "            nn.ReLU(inplace=True),\n",
    "            \n",
    "            # second fully connected layer\n",
    "            # in_features = output of last linear layer = 120 \n",
    "            nn.Linear(in_features=120, out_features=84), \n",
    "            \n",
    "            # ReLU activation\n",
    "            nn.ReLU(inplace=True),\n",
    "            \n",
    "            # Third fully connected layer. It is also output layer\n",
    "            # in_features = output of last linear layer = 84\n",
    "            # and out_features = number of classes = 10 (MNIST data 0-9)\n",
    "            nn.Linear(in_features=84, out_features=10)\n",
    "        )\n",
    "\n",
    "    def forward(self, x):\n",
    "        # apply feature extractor\n",
    "        x = self._body(x)\n",
    "        # flatten the output of conv layers\n",
    "        # dimension should be batch_size * number_of weights_in_last conv_layer\n",
    "        x = x.view(x.size()[0], -1)\n",
    "        # apply classification head\n",
    "        x = self._head(x)\n",
    "        return x"
   ]
  },
  {
   "cell_type": "markdown",
   "metadata": {},
   "source": [
    "## <font style=\"color:green\">2. Display the Network</font><a name=\"display\"></a>"
   ]
  },
  {
   "cell_type": "code",
   "execution_count": 5,
   "metadata": {},
   "outputs": [
    {
     "name": "stdout",
     "output_type": "stream",
     "text": [
      "LeNet5(\n",
      "  (_body): Sequential(\n",
      "    (0): Conv2d(1, 6, kernel_size=(5, 5), stride=(1, 1))\n",
      "    (1): ReLU(inplace=True)\n",
      "    (2): MaxPool2d(kernel_size=2, stride=2, padding=0, dilation=1, ceil_mode=False)\n",
      "    (3): Conv2d(6, 16, kernel_size=(5, 5), stride=(1, 1))\n",
      "    (4): ReLU(inplace=True)\n",
      "    (5): MaxPool2d(kernel_size=2, stride=2, padding=0, dilation=1, ceil_mode=False)\n",
      "  )\n",
      "  (_head): Sequential(\n",
      "    (0): Linear(in_features=400, out_features=120, bias=True)\n",
      "    (1): ReLU(inplace=True)\n",
      "    (2): Linear(in_features=120, out_features=84, bias=True)\n",
      "    (3): ReLU(inplace=True)\n",
      "    (4): Linear(in_features=84, out_features=10, bias=True)\n",
      "  )\n",
      ")\n"
     ]
    }
   ],
   "source": [
    "lenet5_model = LeNet5()\n",
    "print(lenet5_model)"
   ]
  },
  {
   "cell_type": "markdown",
   "metadata": {
    "lines_to_next_cell": 2
   },
   "source": [
    "## <font style=\"color:green\">3. Get MNIST Data</font><a name=\"get-data\"></a>\n",
    "\n",
    "Load the train and test data, using the dataloader class in PyTorch. The dataloader gives an iterator that spits out batches of data, when asked. Also, transform the data as required, using the <a href=\"https://pytorch.org/vision/stable/transforms.html#torchvision.transforms.Compose\" target=\"_blank\">transforms.Compose</a>\n",
    "function:\n",
    "\n",
    "```python\n",
    "train_test_transforms = transforms.Compose([\n",
    "        # Resize to 32X32\n",
    "        transforms.Resize((32, 32)),\n",
    "        # this re-scales image tensor values between 0-1. image_tensor /= 255\n",
    "        transforms.ToTensor(),\n",
    "        # subtract mean (0.1307) and divide by variance (0.3081)\n",
    "        transforms.Normalize((0.1307, ), (0.3081, ))\n",
    "    ])\n",
    "```\n",
    "\n",
    "**Do the  following on the input data:**\n",
    "\n",
    "1. Resize to `32 x 32` to match the  the input size to the model. For more details of` transforms.Resize`, <a href=\"https://pytorch.org/vision/stable/transforms.html#torchvision.transforms.Resize\" target=\"_blank\">click here</a>.\n",
    "\n",
    "2. Rescale image tensor values between `0-1`. Divide each pixel by `255`. For  more details of `transforms.ToTensor`, <a href=\"https://pytorch.org/vision/stable/transforms.html#torchvision.transforms.ToTensor\" target=\"_blank\">click here</a>.\n",
    "\n",
    "3. Normalize the data, by subtracting mean and dividing by variance. This is also known as standardization. For more details of `transforms.Normalize`, <a href=\"https://pytorch.org/vision/stable/transforms.html#torchvision.transforms.Normalize\" target=\"_blank\">click here</a>.\n"
   ]
  },
  {
   "cell_type": "code",
   "execution_count": null,
   "metadata": {},
   "outputs": [
    {
     "name": "stderr",
     "output_type": "stream",
     "text": [
      "100%|██████████| 9.91M/9.91M [00:06<00:00, 1.47MB/s]\n",
      "100%|██████████| 28.9k/28.9k [00:00<00:00, 464kB/s]\n",
      "100%|██████████| 1.65M/1.65M [00:01<00:00, 1.55MB/s]\n",
      "100%|██████████| 4.54k/4.54k [00:00<00:00, 506kB/s]\n"
     ]
    },
    {
     "name": "stdout",
     "output_type": "stream",
     "text": [
      "tensor(0.1307)\n",
      "tensor(0.3081)\n"
     ]
    }
   ],
   "source": [
    "# Get dataset mean and std deviation using transforms and datasets from torchvision\n",
    "train_transform = transforms.Compose([transforms.ToTensor()])\n",
    "train_set = datasets.MNIST(root=\"./data\", train=True, download=True, transform=train_transform)\n",
    "\n",
    "print(train_set.data.float().mean()/255)\n",
    "print(train_set.data.float().std()/255)\n",
    "\n",
    "# mean = 0.1307\n",
    "# std = 0.3081"
   ]
  },
  {
   "cell_type": "code",
   "execution_count": 6,
   "metadata": {},
   "outputs": [],
   "source": [
    "def get_data(batch_size, data_root='data', num_workers=1):\n",
    "    \n",
    "    train_test_transforms = transforms.Compose([\n",
    "        # Resize to 32X32\n",
    "        transforms.Resize((32, 32)),\n",
    "        # this re-scales image tensor values between 0-1. image_tensor /= 255\n",
    "        transforms.ToTensor(),\n",
    "        # subtract mean (0.1307) and divide by variance (0.3081).\n",
    "        # This mean and variance is calculated on training data (verify yourself)\n",
    "        transforms.Normalize((0.1307, ), (0.3081, ))\n",
    "    ])\n",
    "    \n",
    "    # train dataloader\n",
    "    train_loader = torch.utils.data.DataLoader(\n",
    "        datasets.MNIST(root=data_root, train=True, download=True, transform=train_test_transforms),\n",
    "        batch_size=batch_size,\n",
    "        shuffle=True,\n",
    "        num_workers=num_workers\n",
    "    )\n",
    "    \n",
    "    # test dataloader\n",
    "    test_loader = torch.utils.data.DataLoader(\n",
    "        datasets.MNIST(root=data_root, train=False, download=True, transform=train_test_transforms),\n",
    "        batch_size=batch_size,\n",
    "        shuffle=False,\n",
    "        num_workers=num_workers\n",
    "    )\n",
    "    return train_loader, test_loader"
   ]
  },
  {
   "cell_type": "markdown",
   "metadata": {},
   "source": [
    "## <font style=\"color:green\">4. System Configuration</font><a name=\"sys-config\"></a>\n",
    "\n",
    "It is best to have the configuration parameters in separate files. Here, we use a single notebook, therefore let’s start by creating a class for it, and later see how to **structure the project** such that separate files can be maintained.\n",
    "\n",
    "\n",
    "In **`SystemConfiguration`** class, we defined a few attributes to get reproducible results, every time we run the notebook. Generally, this is a good practice. "
   ]
  },
  {
   "cell_type": "code",
   "execution_count": 7,
   "metadata": {},
   "outputs": [],
   "source": [
    "@dataclass\n",
    "class SystemConfiguration:\n",
    "    '''\n",
    "    Describes the common system setting needed for reproducible training\n",
    "    '''\n",
    "    seed: int = 42  # seed number to set the state of all random number generators\n",
    "    cudnn_benchmark_enabled: bool = True  # enable CuDNN benchmark for the sake of performance\n",
    "    cudnn_deterministic: bool = True  # make cudnn deterministic (reproducible training)"
   ]
  },
  {
   "cell_type": "markdown",
   "metadata": {},
   "source": [
    "## <font style=\"color:green\">5. Training Configuration</font><a name=\"train-config\"></a>\n",
    "\n",
    "In **`TrainingConfiguration`**  class,  we have specified the configuration parameters of the training process. We are already familiar with these configurations. This is also a good practice since you don't need to change the network architecture so often as you change the training parameters. So, keeping them in a separate file/class helps you keep your code modular and clean."
   ]
  },
  {
   "cell_type": "code",
   "execution_count": 8,
   "metadata": {},
   "outputs": [],
   "source": [
    "@dataclass\n",
    "class TrainingConfiguration:\n",
    "    '''\n",
    "    Describes configuration of the training process\n",
    "    '''\n",
    "    batch_size: int = 32  # amount of data to pass through the network at each forward-backward iteration\n",
    "    epochs_count: int = 20  # number of times the whole dataset will be passed through the network\n",
    "    learning_rate: float = 0.01  # determines the speed of network's weights update\n",
    "    log_interval: int = 100  # how many batches to wait between logging training status\n",
    "    test_interval: int = 1  # how many epochs to wait before another test. Set to 1 to get val loss at each epoch\n",
    "    data_root: str = \"data\"  # folder to save MNIST data (default: data/mnist-data)\n",
    "    num_workers: int = 10  # number of concurrent processes used to prepare data\n",
    "    device: str = 'cuda'  # device to use for training.\n",
    "    \n"
   ]
  },
  {
   "cell_type": "markdown",
   "metadata": {},
   "source": [
    "## <font style=\"color:green\">6. System Setup</font><a name=\"sys-setup\"></a>\n",
    "\n",
    "Let us define a function, **`setup_system`** that will check the `SystemConfiguration` attributes and update the system settings accordingly. For example, it sets the device to GPU/CPU depending on GPU availability on your system."
   ]
  },
  {
   "cell_type": "code",
   "execution_count": 9,
   "metadata": {},
   "outputs": [],
   "source": [
    "def setup_system(system_config: SystemConfiguration) -> None:\n",
    "    torch.manual_seed(system_config.seed)\n",
    "    if torch.cuda.is_available():\n",
    "        torch.backends.cudnn_benchmark_enabled = system_config.cudnn_benchmark_enabled\n",
    "        torch.backends.cudnn.deterministic = system_config.cudnn_deterministic"
   ]
  },
  {
   "cell_type": "markdown",
   "metadata": {},
   "source": [
    "## <font style=\"color:green\">7. Training</font><a name=\"training\"></a>\n",
    "\n",
    "You are familiar with the training pipeline used in PyTorch. Follow the steps given below:\n",
    "\n",
    "1. Send the data to the required device ( CPU/GPU ).\n",
    "1. Make a forward pass using the forward method.\n",
    "1. Find the loss using the Cross_Entropy function.\n",
    "1. Find the gradients using the backward function.\n",
    "1. Update the weights using the optimizer.\n",
    "1. Find the accuracy of the model.\n",
    "\n",
    "Repeat the above for the specified number of epochs."
   ]
  },
  {
   "cell_type": "code",
   "execution_count": 10,
   "metadata": {},
   "outputs": [],
   "source": [
    "def train(train_config: TrainingConfiguration, model: nn.Module, optimizer: torch.optim.Optimizer, train_loader: torch.utils.data.DataLoader, epoch_idx: int) -> Tuple[float, float]:\n",
    "    \n",
    "    # change model in training mode\n",
    "    model.train()\n",
    "    \n",
    "    # to get batch loss\n",
    "    batch_loss = np.array([])\n",
    "    \n",
    "    # to get batch accuracy\n",
    "    batch_acc = np.array([])\n",
    "        \n",
    "    for batch_idx, (data, target) in enumerate(train_loader):\n",
    "        \n",
    "        # clone target\n",
    "        indx_target = target.clone()\n",
    "        # send data to device (it is mandatory if GPU has to be used)\n",
    "        data = data.to(train_config.device)\n",
    "        # send target to device\n",
    "        target = target.to(train_config.device)\n",
    "\n",
    "        # reset parameters gradient to zero\n",
    "        optimizer.zero_grad()\n",
    "        \n",
    "        # forward pass to the model\n",
    "        output = model(data)\n",
    "        \n",
    "        # cross entropy loss\n",
    "        loss = F.cross_entropy(output, target)\n",
    "        \n",
    "        # find gradients w.r.t training parameters\n",
    "        loss.backward()\n",
    "        # Update parameters using gradients\n",
    "        optimizer.step()\n",
    "        \n",
    "        batch_loss = np.append(batch_loss, [loss.item()])\n",
    "        \n",
    "        # get probability score using softmax\n",
    "        prob = F.softmax(output, dim=1)\n",
    "            \n",
    "        # get the index of the max probability\n",
    "        pred = prob.data.max(dim=1)[1]  \n",
    "                        \n",
    "        # correct prediction\n",
    "        correct = pred.cpu().eq(indx_target).sum()\n",
    "            \n",
    "        # accuracy\n",
    "        acc = float(correct) / float(len(data))\n",
    "        \n",
    "        batch_acc = np.append(batch_acc, [acc])\n",
    "\n",
    "        if batch_idx % train_config.log_interval == 0 and batch_idx > 0:              \n",
    "            print(\n",
    "                'Train Epoch: {} [{}/{}] Loss: {:.6f} Acc: {:.4f}'.format(\n",
    "                    epoch_idx, batch_idx * len(data), len(train_loader.dataset), loss.item(), acc\n",
    "                )\n",
    "            )\n",
    "            \n",
    "    epoch_loss = batch_loss.mean()\n",
    "    epoch_acc = batch_acc.mean()\n",
    "    return epoch_loss, epoch_acc"
   ]
  },
  {
   "cell_type": "markdown",
   "metadata": {},
   "source": [
    "## <font style=\"color:green\">8. Validation</font><a name=\"validation\"></a>\n",
    "\n",
    "After every few epochs, you must do **`validation`** with the trained model and `test_loader` in order to get validation loss and accuracy."
   ]
  },
  {
   "cell_type": "code",
   "execution_count": 11,
   "metadata": {},
   "outputs": [],
   "source": [
    "def validate(train_config: TrainingConfiguration, model: nn.Module, test_loader: torch.utils.data.DataLoader) -> Tuple[float, float]:\n",
    "    model.eval()\n",
    "    test_loss = 0\n",
    "    count_corect_predictions = 0\n",
    "    \n",
    "    # turn off gradient-computation\n",
    "    with torch.no_grad():\n",
    "        \n",
    "        for data, target in test_loader:\n",
    "            indx_target = target.clone()\n",
    "            data = data.to(train_config.device)\n",
    "\n",
    "            target = target.to(train_config.device)\n",
    "\n",
    "            output = model(data)\n",
    "            # add loss for each mini batch\n",
    "            test_loss += F.cross_entropy(output, target).item()\n",
    "\n",
    "            # get probability score using softmax\n",
    "            prob = F.softmax(output, dim=1)\n",
    "\n",
    "            # get the index of the max probability\n",
    "            pred = prob.data.max(dim=1)[1] \n",
    "\n",
    "            # add correct prediction count\n",
    "            count_corect_predictions += pred.cpu().eq(indx_target).sum()\n",
    "\n",
    "        # average over number of mini-batches\n",
    "        test_loss = test_loss / len(test_loader)  \n",
    "\n",
    "        # average over number of dataset\n",
    "        accuracy = 100. * count_corect_predictions / len(test_loader.dataset)\n",
    "\n",
    "        print(\n",
    "            '\\nTest set: Average loss: {:.4f}, Accuracy: {}/{} ({:.0f}%)\\n'.format(\n",
    "                test_loss, count_corect_predictions, len(test_loader.dataset), accuracy\n",
    "            )\n",
    "        )\n",
    "    return test_loss, accuracy/100.0"
   ]
  },
  {
   "cell_type": "markdown",
   "metadata": {},
   "source": [
    "## <font style=\"color:green\">9. Main</font><a name=\"main\"></a>\n",
    "\n",
    "\n",
    "In this section of code, we use the configuration parameters defined above and start training.\n",
    "\n",
    "1. Set up system parameters like CPU/GPU, number of threads etc.\n",
    "1. Load the data using dataloaders.\n",
    "1. Create an instance of the LeNet model.\n",
    "1. Specify optimizer to use.\n",
    "1. Set up variables to track loss and accuracy and start training."
   ]
  },
  {
   "cell_type": "code",
   "execution_count": 12,
   "metadata": {},
   "outputs": [],
   "source": [
    "def main(system_configuration=SystemConfiguration(), training_configuration=TrainingConfiguration()):\n",
    "    \n",
    "    # system configuration\n",
    "    setup_system(system_configuration)\n",
    "\n",
    "    # batch size\n",
    "    batch_size_to_set = training_configuration.batch_size\n",
    "    # num_workers\n",
    "    num_workers_to_set = training_configuration.num_workers\n",
    "    # epochs\n",
    "    epoch_num_to_set = training_configuration.epochs_count\n",
    "\n",
    "    # if GPU is available use training config, \n",
    "    # else lower batch_size, num_workers and epochs count\n",
    "    if torch.cuda.is_available():\n",
    "        device = \"cuda\"\n",
    "    else:\n",
    "        device = \"cpu\"\n",
    "        batch_size_to_set = 16\n",
    "        num_workers_to_set = 2\n",
    "        epoch_num_to_set = 5\n",
    "\n",
    "    # data loader\n",
    "    train_loader, test_loader = get_data(\n",
    "        batch_size=batch_size_to_set,\n",
    "        data_root=training_configuration.data_root,\n",
    "        num_workers=num_workers_to_set\n",
    "    )\n",
    "    \n",
    "    # Update training configuration\n",
    "    training_configuration = TrainingConfiguration(\n",
    "        device=device,\n",
    "        epochs_count=epoch_num_to_set,\n",
    "        batch_size=batch_size_to_set,\n",
    "        num_workers=num_workers_to_set\n",
    "    )\n",
    "\n",
    "    # initiate model\n",
    "    model = LeNet5()\n",
    "        \n",
    "    # send model to device (GPU/CPU)\n",
    "    model.to(training_configuration.device)\n",
    "\n",
    "    # optimizer\n",
    "    optimizer = optim.SGD(\n",
    "        model.parameters(),\n",
    "        lr=training_configuration.learning_rate\n",
    "    )\n",
    "\n",
    "    best_loss = torch.tensor(np.inf)\n",
    "    \n",
    "    # epoch train/test loss\n",
    "    epoch_train_loss = np.array([])\n",
    "    epoch_test_loss = np.array([])\n",
    "    \n",
    "    # epoch train/test accuracy\n",
    "    epoch_train_acc = np.array([])\n",
    "    epoch_test_acc = np.array([])\n",
    "    \n",
    "    # training time measurement\n",
    "    t_begin = time.time()\n",
    "    for epoch in range(training_configuration.epochs_count):\n",
    "        \n",
    "        train_loss, train_acc = train(training_configuration, model, optimizer, train_loader, epoch)\n",
    "        \n",
    "        epoch_train_loss = np.append(epoch_train_loss, [train_loss])\n",
    "        \n",
    "        epoch_train_acc = np.append(epoch_train_acc, [train_acc])\n",
    "\n",
    "        elapsed_time = time.time() - t_begin\n",
    "        speed_epoch = elapsed_time / (epoch + 1)\n",
    "        speed_batch = speed_epoch / len(train_loader)\n",
    "        eta = speed_epoch * training_configuration.epochs_count - elapsed_time\n",
    "        \n",
    "        print(\n",
    "            \"Elapsed {:.2f}s, {:.2f} s/epoch, {:.2f} s/batch, ets {:.2f}s\".format(\n",
    "                elapsed_time, speed_epoch, speed_batch, eta\n",
    "            )\n",
    "        )\n",
    "\n",
    "        if epoch % training_configuration.test_interval == 0:\n",
    "            current_loss, current_accuracy = validate(training_configuration, model, test_loader)\n",
    "            \n",
    "            epoch_test_loss = np.append(epoch_test_loss, [current_loss])\n",
    "        \n",
    "            epoch_test_acc = np.append(epoch_test_acc, [current_accuracy])\n",
    "            \n",
    "            if current_loss < best_loss:\n",
    "                best_loss = current_loss\n",
    "                \n",
    "    print(\"Total time: {:.2f}, Best Loss: {:.3f}\".format(time.time() - t_begin, best_loss))\n",
    "    \n",
    "    return model, epoch_train_loss, epoch_train_acc, epoch_test_loss, epoch_test_acc"
   ]
  },
  {
   "cell_type": "code",
   "execution_count": 13,
   "metadata": {
    "scrolled": true
   },
   "outputs": [
    {
     "name": "stdout",
     "output_type": "stream",
     "text": [
      "Train Epoch: 0 [1600/60000] Loss: 2.304386 Acc: 0.0625\n",
      "Train Epoch: 0 [3200/60000] Loss: 2.020136 Acc: 0.3750\n",
      "Train Epoch: 0 [4800/60000] Loss: 0.966736 Acc: 0.6250\n",
      "Train Epoch: 0 [6400/60000] Loss: 1.003069 Acc: 0.5625\n",
      "Train Epoch: 0 [8000/60000] Loss: 1.318518 Acc: 0.6875\n",
      "Train Epoch: 0 [9600/60000] Loss: 0.402901 Acc: 0.8125\n",
      "Train Epoch: 0 [11200/60000] Loss: 0.196657 Acc: 1.0000\n",
      "Train Epoch: 0 [12800/60000] Loss: 0.104711 Acc: 1.0000\n",
      "Train Epoch: 0 [14400/60000] Loss: 0.796018 Acc: 0.7500\n",
      "Train Epoch: 0 [16000/60000] Loss: 0.345859 Acc: 0.8750\n",
      "Train Epoch: 0 [17600/60000] Loss: 0.335726 Acc: 0.9375\n",
      "Train Epoch: 0 [19200/60000] Loss: 0.063619 Acc: 1.0000\n",
      "Train Epoch: 0 [20800/60000] Loss: 0.300628 Acc: 0.8750\n",
      "Train Epoch: 0 [22400/60000] Loss: 0.704974 Acc: 0.8750\n",
      "Train Epoch: 0 [24000/60000] Loss: 0.115913 Acc: 0.9375\n",
      "Train Epoch: 0 [25600/60000] Loss: 0.181563 Acc: 0.9375\n",
      "Train Epoch: 0 [27200/60000] Loss: 0.148952 Acc: 0.8750\n",
      "Train Epoch: 0 [28800/60000] Loss: 0.279866 Acc: 0.8750\n",
      "Train Epoch: 0 [30400/60000] Loss: 0.078606 Acc: 1.0000\n",
      "Train Epoch: 0 [32000/60000] Loss: 0.130622 Acc: 0.9375\n",
      "Train Epoch: 0 [33600/60000] Loss: 0.138364 Acc: 0.9375\n",
      "Train Epoch: 0 [35200/60000] Loss: 0.129151 Acc: 0.9375\n",
      "Train Epoch: 0 [36800/60000] Loss: 0.055706 Acc: 1.0000\n",
      "Train Epoch: 0 [38400/60000] Loss: 0.626237 Acc: 0.8125\n",
      "Train Epoch: 0 [40000/60000] Loss: 0.036987 Acc: 1.0000\n",
      "Train Epoch: 0 [41600/60000] Loss: 0.095564 Acc: 1.0000\n",
      "Train Epoch: 0 [43200/60000] Loss: 0.192325 Acc: 0.9375\n",
      "Train Epoch: 0 [44800/60000] Loss: 0.430785 Acc: 0.8750\n",
      "Train Epoch: 0 [46400/60000] Loss: 0.039731 Acc: 1.0000\n",
      "Train Epoch: 0 [48000/60000] Loss: 0.018727 Acc: 1.0000\n",
      "Train Epoch: 0 [49600/60000] Loss: 0.389505 Acc: 0.8750\n",
      "Train Epoch: 0 [51200/60000] Loss: 0.014540 Acc: 1.0000\n",
      "Train Epoch: 0 [52800/60000] Loss: 0.056144 Acc: 1.0000\n",
      "Train Epoch: 0 [54400/60000] Loss: 0.042159 Acc: 1.0000\n",
      "Train Epoch: 0 [56000/60000] Loss: 0.159218 Acc: 0.9375\n",
      "Train Epoch: 0 [57600/60000] Loss: 0.077548 Acc: 1.0000\n",
      "Train Epoch: 0 [59200/60000] Loss: 0.362875 Acc: 0.9375\n",
      "Elapsed 46.68s, 46.68 s/epoch, 0.01 s/batch, ets 186.74s\n",
      "\n",
      "Test set: Average loss: 0.1038, Accuracy: 9672/10000 (97%)\n",
      "\n",
      "Train Epoch: 1 [1600/60000] Loss: 0.103557 Acc: 0.9375\n",
      "Train Epoch: 1 [3200/60000] Loss: 0.204802 Acc: 0.9375\n",
      "Train Epoch: 1 [4800/60000] Loss: 0.032852 Acc: 1.0000\n",
      "Train Epoch: 1 [6400/60000] Loss: 0.015799 Acc: 1.0000\n",
      "Train Epoch: 1 [8000/60000] Loss: 0.400641 Acc: 0.8125\n",
      "Train Epoch: 1 [9600/60000] Loss: 0.069368 Acc: 1.0000\n",
      "Train Epoch: 1 [11200/60000] Loss: 0.003326 Acc: 1.0000\n",
      "Train Epoch: 1 [12800/60000] Loss: 0.114464 Acc: 0.9375\n",
      "Train Epoch: 1 [14400/60000] Loss: 0.029208 Acc: 1.0000\n",
      "Train Epoch: 1 [16000/60000] Loss: 0.082807 Acc: 0.9375\n",
      "Train Epoch: 1 [17600/60000] Loss: 0.367936 Acc: 0.9375\n",
      "Train Epoch: 1 [19200/60000] Loss: 0.039575 Acc: 1.0000\n",
      "Train Epoch: 1 [20800/60000] Loss: 0.198362 Acc: 0.9375\n",
      "Train Epoch: 1 [22400/60000] Loss: 0.004612 Acc: 1.0000\n",
      "Train Epoch: 1 [24000/60000] Loss: 0.358655 Acc: 0.8750\n",
      "Train Epoch: 1 [25600/60000] Loss: 0.205437 Acc: 0.9375\n",
      "Train Epoch: 1 [27200/60000] Loss: 0.206320 Acc: 0.9375\n",
      "Train Epoch: 1 [28800/60000] Loss: 0.030447 Acc: 1.0000\n",
      "Train Epoch: 1 [30400/60000] Loss: 0.012716 Acc: 1.0000\n",
      "Train Epoch: 1 [32000/60000] Loss: 0.099718 Acc: 0.9375\n",
      "Train Epoch: 1 [33600/60000] Loss: 0.003013 Acc: 1.0000\n",
      "Train Epoch: 1 [35200/60000] Loss: 0.020534 Acc: 1.0000\n",
      "Train Epoch: 1 [36800/60000] Loss: 0.004589 Acc: 1.0000\n",
      "Train Epoch: 1 [38400/60000] Loss: 0.304165 Acc: 0.8750\n",
      "Train Epoch: 1 [40000/60000] Loss: 0.139478 Acc: 0.9375\n",
      "Train Epoch: 1 [41600/60000] Loss: 0.081181 Acc: 1.0000\n",
      "Train Epoch: 1 [43200/60000] Loss: 0.057294 Acc: 1.0000\n",
      "Train Epoch: 1 [44800/60000] Loss: 0.005667 Acc: 1.0000\n",
      "Train Epoch: 1 [46400/60000] Loss: 0.008142 Acc: 1.0000\n",
      "Train Epoch: 1 [48000/60000] Loss: 0.016706 Acc: 1.0000\n",
      "Train Epoch: 1 [49600/60000] Loss: 0.024931 Acc: 1.0000\n",
      "Train Epoch: 1 [51200/60000] Loss: 0.336972 Acc: 0.9375\n",
      "Train Epoch: 1 [52800/60000] Loss: 0.001625 Acc: 1.0000\n",
      "Train Epoch: 1 [54400/60000] Loss: 0.083479 Acc: 0.9375\n",
      "Train Epoch: 1 [56000/60000] Loss: 0.039979 Acc: 1.0000\n",
      "Train Epoch: 1 [57600/60000] Loss: 0.005068 Acc: 1.0000\n",
      "Train Epoch: 1 [59200/60000] Loss: 0.027769 Acc: 1.0000\n",
      "Elapsed 102.18s, 51.09 s/epoch, 0.01 s/batch, ets 153.27s\n",
      "\n",
      "Test set: Average loss: 0.0612, Accuracy: 9791/10000 (98%)\n",
      "\n",
      "Train Epoch: 2 [1600/60000] Loss: 0.009438 Acc: 1.0000\n",
      "Train Epoch: 2 [3200/60000] Loss: 0.055722 Acc: 1.0000\n",
      "Train Epoch: 2 [4800/60000] Loss: 0.002834 Acc: 1.0000\n",
      "Train Epoch: 2 [6400/60000] Loss: 0.042474 Acc: 1.0000\n",
      "Train Epoch: 2 [8000/60000] Loss: 0.004209 Acc: 1.0000\n",
      "Train Epoch: 2 [9600/60000] Loss: 0.001790 Acc: 1.0000\n",
      "Train Epoch: 2 [11200/60000] Loss: 0.020617 Acc: 1.0000\n",
      "Train Epoch: 2 [12800/60000] Loss: 0.021744 Acc: 1.0000\n",
      "Train Epoch: 2 [14400/60000] Loss: 0.032838 Acc: 1.0000\n",
      "Train Epoch: 2 [16000/60000] Loss: 0.001221 Acc: 1.0000\n",
      "Train Epoch: 2 [17600/60000] Loss: 0.004413 Acc: 1.0000\n",
      "Train Epoch: 2 [19200/60000] Loss: 0.002910 Acc: 1.0000\n",
      "Train Epoch: 2 [20800/60000] Loss: 0.009360 Acc: 1.0000\n",
      "Train Epoch: 2 [22400/60000] Loss: 0.009911 Acc: 1.0000\n",
      "Train Epoch: 2 [24000/60000] Loss: 0.006462 Acc: 1.0000\n",
      "Train Epoch: 2 [25600/60000] Loss: 0.003102 Acc: 1.0000\n",
      "Train Epoch: 2 [27200/60000] Loss: 0.009035 Acc: 1.0000\n",
      "Train Epoch: 2 [28800/60000] Loss: 0.010111 Acc: 1.0000\n",
      "Train Epoch: 2 [30400/60000] Loss: 0.018748 Acc: 1.0000\n",
      "Train Epoch: 2 [32000/60000] Loss: 0.496303 Acc: 0.9375\n",
      "Train Epoch: 2 [33600/60000] Loss: 0.018303 Acc: 1.0000\n",
      "Train Epoch: 2 [35200/60000] Loss: 0.084330 Acc: 0.9375\n",
      "Train Epoch: 2 [36800/60000] Loss: 0.233227 Acc: 0.9375\n",
      "Train Epoch: 2 [38400/60000] Loss: 0.041818 Acc: 1.0000\n",
      "Train Epoch: 2 [40000/60000] Loss: 0.433915 Acc: 0.9375\n",
      "Train Epoch: 2 [41600/60000] Loss: 0.007824 Acc: 1.0000\n",
      "Train Epoch: 2 [43200/60000] Loss: 0.002104 Acc: 1.0000\n",
      "Train Epoch: 2 [44800/60000] Loss: 0.002981 Acc: 1.0000\n",
      "Train Epoch: 2 [46400/60000] Loss: 0.345274 Acc: 0.9375\n",
      "Train Epoch: 2 [48000/60000] Loss: 0.011357 Acc: 1.0000\n",
      "Train Epoch: 2 [49600/60000] Loss: 0.003524 Acc: 1.0000\n",
      "Train Epoch: 2 [51200/60000] Loss: 0.031509 Acc: 1.0000\n",
      "Train Epoch: 2 [52800/60000] Loss: 0.073809 Acc: 0.9375\n",
      "Train Epoch: 2 [54400/60000] Loss: 0.002544 Acc: 1.0000\n",
      "Train Epoch: 2 [56000/60000] Loss: 0.013220 Acc: 1.0000\n",
      "Train Epoch: 2 [57600/60000] Loss: 0.011196 Acc: 1.0000\n",
      "Train Epoch: 2 [59200/60000] Loss: 0.662857 Acc: 0.8750\n",
      "Elapsed 157.32s, 52.44 s/epoch, 0.01 s/batch, ets 104.88s\n",
      "\n",
      "Test set: Average loss: 0.0486, Accuracy: 9848/10000 (98%)\n",
      "\n",
      "Train Epoch: 3 [1600/60000] Loss: 0.032482 Acc: 1.0000\n",
      "Train Epoch: 3 [3200/60000] Loss: 0.027266 Acc: 1.0000\n",
      "Train Epoch: 3 [4800/60000] Loss: 0.033800 Acc: 1.0000\n",
      "Train Epoch: 3 [6400/60000] Loss: 0.018020 Acc: 1.0000\n",
      "Train Epoch: 3 [8000/60000] Loss: 0.108056 Acc: 0.9375\n",
      "Train Epoch: 3 [9600/60000] Loss: 0.001155 Acc: 1.0000\n",
      "Train Epoch: 3 [11200/60000] Loss: 0.019239 Acc: 1.0000\n",
      "Train Epoch: 3 [12800/60000] Loss: 0.007591 Acc: 1.0000\n",
      "Train Epoch: 3 [14400/60000] Loss: 0.000776 Acc: 1.0000\n",
      "Train Epoch: 3 [16000/60000] Loss: 0.002722 Acc: 1.0000\n",
      "Train Epoch: 3 [17600/60000] Loss: 0.001144 Acc: 1.0000\n",
      "Train Epoch: 3 [19200/60000] Loss: 0.007470 Acc: 1.0000\n",
      "Train Epoch: 3 [20800/60000] Loss: 0.001160 Acc: 1.0000\n",
      "Train Epoch: 3 [22400/60000] Loss: 0.007872 Acc: 1.0000\n",
      "Train Epoch: 3 [24000/60000] Loss: 0.162311 Acc: 0.9375\n",
      "Train Epoch: 3 [25600/60000] Loss: 0.000567 Acc: 1.0000\n",
      "Train Epoch: 3 [27200/60000] Loss: 0.005463 Acc: 1.0000\n",
      "Train Epoch: 3 [28800/60000] Loss: 0.184485 Acc: 0.8750\n",
      "Train Epoch: 3 [30400/60000] Loss: 0.002849 Acc: 1.0000\n",
      "Train Epoch: 3 [32000/60000] Loss: 0.002013 Acc: 1.0000\n",
      "Train Epoch: 3 [33600/60000] Loss: 0.011559 Acc: 1.0000\n",
      "Train Epoch: 3 [35200/60000] Loss: 0.006658 Acc: 1.0000\n",
      "Train Epoch: 3 [36800/60000] Loss: 0.023932 Acc: 1.0000\n",
      "Train Epoch: 3 [38400/60000] Loss: 0.009537 Acc: 1.0000\n",
      "Train Epoch: 3 [40000/60000] Loss: 0.019111 Acc: 1.0000\n",
      "Train Epoch: 3 [41600/60000] Loss: 0.032955 Acc: 1.0000\n",
      "Train Epoch: 3 [43200/60000] Loss: 0.033520 Acc: 1.0000\n",
      "Train Epoch: 3 [44800/60000] Loss: 0.081351 Acc: 0.9375\n",
      "Train Epoch: 3 [46400/60000] Loss: 0.008493 Acc: 1.0000\n",
      "Train Epoch: 3 [48000/60000] Loss: 0.002492 Acc: 1.0000\n",
      "Train Epoch: 3 [49600/60000] Loss: 0.000490 Acc: 1.0000\n",
      "Train Epoch: 3 [51200/60000] Loss: 0.005843 Acc: 1.0000\n",
      "Train Epoch: 3 [52800/60000] Loss: 0.000141 Acc: 1.0000\n",
      "Train Epoch: 3 [54400/60000] Loss: 0.032767 Acc: 1.0000\n",
      "Train Epoch: 3 [56000/60000] Loss: 0.000633 Acc: 1.0000\n",
      "Train Epoch: 3 [57600/60000] Loss: 0.004346 Acc: 1.0000\n",
      "Train Epoch: 3 [59200/60000] Loss: 0.003990 Acc: 1.0000\n",
      "Elapsed 208.48s, 52.12 s/epoch, 0.01 s/batch, ets 52.12s\n",
      "\n",
      "Test set: Average loss: 0.0472, Accuracy: 9846/10000 (98%)\n",
      "\n",
      "Train Epoch: 4 [1600/60000] Loss: 0.175301 Acc: 0.9375\n",
      "Train Epoch: 4 [3200/60000] Loss: 0.004714 Acc: 1.0000\n",
      "Train Epoch: 4 [4800/60000] Loss: 0.019502 Acc: 1.0000\n",
      "Train Epoch: 4 [6400/60000] Loss: 0.047311 Acc: 1.0000\n",
      "Train Epoch: 4 [8000/60000] Loss: 0.003567 Acc: 1.0000\n",
      "Train Epoch: 4 [9600/60000] Loss: 0.019860 Acc: 1.0000\n",
      "Train Epoch: 4 [11200/60000] Loss: 0.015608 Acc: 1.0000\n",
      "Train Epoch: 4 [12800/60000] Loss: 0.005221 Acc: 1.0000\n",
      "Train Epoch: 4 [14400/60000] Loss: 0.068677 Acc: 0.9375\n",
      "Train Epoch: 4 [16000/60000] Loss: 0.004396 Acc: 1.0000\n",
      "Train Epoch: 4 [17600/60000] Loss: 0.014165 Acc: 1.0000\n",
      "Train Epoch: 4 [19200/60000] Loss: 0.001249 Acc: 1.0000\n",
      "Train Epoch: 4 [20800/60000] Loss: 0.000764 Acc: 1.0000\n",
      "Train Epoch: 4 [22400/60000] Loss: 0.041858 Acc: 1.0000\n",
      "Train Epoch: 4 [24000/60000] Loss: 0.006987 Acc: 1.0000\n",
      "Train Epoch: 4 [25600/60000] Loss: 0.006660 Acc: 1.0000\n",
      "Train Epoch: 4 [27200/60000] Loss: 0.015292 Acc: 1.0000\n",
      "Train Epoch: 4 [28800/60000] Loss: 0.005058 Acc: 1.0000\n",
      "Train Epoch: 4 [30400/60000] Loss: 0.000370 Acc: 1.0000\n",
      "Train Epoch: 4 [32000/60000] Loss: 0.008569 Acc: 1.0000\n",
      "Train Epoch: 4 [33600/60000] Loss: 0.008868 Acc: 1.0000\n",
      "Train Epoch: 4 [35200/60000] Loss: 0.054488 Acc: 0.9375\n",
      "Train Epoch: 4 [36800/60000] Loss: 0.003319 Acc: 1.0000\n",
      "Train Epoch: 4 [38400/60000] Loss: 0.003057 Acc: 1.0000\n",
      "Train Epoch: 4 [40000/60000] Loss: 0.007379 Acc: 1.0000\n",
      "Train Epoch: 4 [41600/60000] Loss: 0.071662 Acc: 0.9375\n",
      "Train Epoch: 4 [43200/60000] Loss: 0.014003 Acc: 1.0000\n",
      "Train Epoch: 4 [44800/60000] Loss: 0.001189 Acc: 1.0000\n",
      "Train Epoch: 4 [46400/60000] Loss: 0.042204 Acc: 1.0000\n",
      "Train Epoch: 4 [48000/60000] Loss: 0.000468 Acc: 1.0000\n",
      "Train Epoch: 4 [49600/60000] Loss: 0.013922 Acc: 1.0000\n",
      "Train Epoch: 4 [51200/60000] Loss: 0.000637 Acc: 1.0000\n",
      "Train Epoch: 4 [52800/60000] Loss: 0.266070 Acc: 0.9375\n",
      "Train Epoch: 4 [54400/60000] Loss: 0.005114 Acc: 1.0000\n",
      "Train Epoch: 4 [56000/60000] Loss: 0.027716 Acc: 1.0000\n",
      "Train Epoch: 4 [57600/60000] Loss: 0.058917 Acc: 0.9375\n",
      "Train Epoch: 4 [59200/60000] Loss: 0.024335 Acc: 1.0000\n",
      "Elapsed 251.44s, 50.29 s/epoch, 0.01 s/batch, ets 0.00s\n",
      "\n",
      "Test set: Average loss: 0.0369, Accuracy: 9885/10000 (99%)\n",
      "\n",
      "Total time: 260.66, Best Loss: 0.037\n"
     ]
    }
   ],
   "source": [
    "model, epoch_train_loss, epoch_train_acc, epoch_test_loss, epoch_test_acc = main()"
   ]
  },
  {
   "cell_type": "markdown",
   "metadata": {},
   "source": [
    "## <font style=\"color:green\">10. Plot Loss</font><a name=\"plot-loss\"></a>"
   ]
  },
  {
   "cell_type": "code",
   "execution_count": 14,
   "metadata": {
    "lines_to_next_cell": 2
   },
   "outputs": [
    {
     "data": {
      "image/png": "[encoded data removed]",
      "text/plain": [
       "<Figure size 1000x600 with 1 Axes>"
      ]
     },
     "metadata": {},
     "output_type": "display_data"
    }
   ],
   "source": [
    "# Plot loss\n",
    "plt.rcParams[\"figure.figsize\"] = (10, 6)\n",
    "x = range(len(epoch_train_loss))\n",
    "\n",
    "\n",
    "plt.figure\n",
    "plt.plot(x, epoch_train_loss, color='r', label=\"train loss\")\n",
    "plt.plot(x, epoch_test_loss, color='b', label=\"validation loss\")\n",
    "plt.xlabel('epoch no.')\n",
    "plt.ylabel('loss')\n",
    "plt.legend(loc='upper right')\n",
    "plt.title('Training and Validation Loss')\n",
    "plt.show()"
   ]
  },
  {
   "cell_type": "markdown",
   "metadata": {},
   "source": [
    "## <font style=\"color:green\">11. Plot Accuracy</font><a name=\"plot-acc\"></a>"
   ]
  },
  {
   "cell_type": "code",
   "execution_count": 15,
   "metadata": {},
   "outputs": [
    {
     "data": {
      "image/png": "[encoded data removed]",
      "text/plain": [
       "<Figure size 1000x600 with 1 Axes>"
      ]
     },
     "metadata": {},
     "output_type": "display_data"
    }
   ],
   "source": [
    "# Plot loss\n",
    "plt.rcParams[\"figure.figsize\"] = (10, 6)\n",
    "x = range(len(epoch_train_loss))\n",
    "\n",
    "\n",
    "plt.figure\n",
    "plt.plot(x, epoch_train_acc, color='r', label=\"train accuracy\")\n",
    "plt.plot(x, epoch_test_acc, color='b', label=\"validation accuracy\")\n",
    "plt.xlabel('epoch no.')\n",
    "plt.ylabel('accuracy')\n",
    "plt.legend(loc='center right')\n",
    "plt.title('Training and Validation Accuracy')\n",
    "plt.show()"
   ]
  },
  {
   "cell_type": "markdown",
   "metadata": {},
   "source": [
    "## <font style=\"color:green\">12. Save the Model Parameters</font><a name=\"save-model\"></a>\n",
    "\n",
    "After training the model, you need to save it.  Later, use it for inference or to resume training from where you paused it.  ( Eg:, When you use free services like Google Colab etc.)\n",
    "\n",
    "While saving or loading the model, the most important concept to understand is `state_dict`. The model, as you know, consists of parameters learned during training. These can now be accessed using the `model.parameters()` method. Also, there are some optimizer parameters.  These carry information on hyperparameters like learning rate, optimizer used etc.\n",
    "\n",
    "\n",
    "All the above information is stored in the form of `state_dict`s. There are separate state_dicts for model parameters (`model.state_dict()`) and optimizer (`optimizer.state_dict()`). \n",
    "\n",
    "\n",
    "So, if you want to save the model for inference, save the state_dict of the model only. However, if you want to resume training from some checkpoint, you need to save the optimizer's `state_dict` as well (more discussion on checkpoints later).\n",
    "\n",
    "\n",
    "Save the model using the code below:\n",
    "\n",
    "**Note:** It's a good practice to save the `CPU` compatible model. So before saving, send the model to the `CPU` using `model.to('cpu')`."
   ]
  },
  {
   "cell_type": "code",
   "execution_count": null,
   "metadata": {},
   "outputs": [],
   "source": [
    "models = 'models'\n",
    "if not os.path.exists(models):\n",
    "    os.makedirs(models)\n",
    "    \n",
    "model_file_name = 'lenet5_mnist.pt'\n",
    "\n",
    "model_path = os.path.join(models, model_file_name)\n",
    "\n",
    "# make sure you transfer the model to cpu. good practice to save CPU compatible model\n",
    "model.to('cpu')\n",
    "\n",
    "# save the state_dict\n",
    "torch.save(model.state_dict(), model_path)"
   ]
  },
  {
   "cell_type": "markdown",
   "metadata": {},
   "source": [
    "## <font style=\"color:green\">13. Load the Model Parameters </font><a name=\"load-model\"></a>\n",
    "After saving the model's state_dict, you can load the parameters into the model using similar functions. \n",
    "\n",
    "1. Create an instance of the model class.\n",
    "\n",
    "1. Load the parameters by using `torch.load(model_path)`.\n",
    "\n",
    "1. Load the parameters inside the model using `model.load_state_dict()`."
   ]
  },
  {
   "cell_type": "code",
   "execution_count": 20,
   "metadata": {},
   "outputs": [
    {
     "data": {
      "text/plain": [
       "<All keys matched successfully>"
      ]
     },
     "execution_count": 20,
     "metadata": {},
     "output_type": "execute_result"
    }
   ],
   "source": [
    "# initialize the model\n",
    "lenet5_mnist = LeNet5()\n",
    "\n",
    "# loading the model and getting model parameters by using load_state_dict\n",
    "lenet5_mnist.load_state_dict(torch.load(model_path))"
   ]
  },
  {
   "cell_type": "markdown",
   "metadata": {},
   "source": [
    "## <font style=\"color:green\">14. Model Prediction</font><a name=\"predict\"></a>\n",
    "\n",
    "Use the trained model to perform inference on new data. Just do a forward pass through the network, and use  softmax on the output. This will give us a probability score of the prediction.\n",
    "\n",
    "\n",
    "Finally, we find the argmax of the output. It tells us which class  the prediction belongs to.\n"
   ]
  },
  {
   "cell_type": "code",
   "execution_count": 21,
   "metadata": {},
   "outputs": [],
   "source": [
    "def prediction(model, train_config, batch_input):\n",
    "    \n",
    "    # turn off gradient-computation\n",
    "    with torch.no_grad():\n",
    "    \n",
    "        # send model to cpu/cuda according to your system configuration\n",
    "        model.to(train_config.device)\n",
    "\n",
    "        # it is important to do model.eval() before prediction\n",
    "        model.eval()\n",
    "\n",
    "        data = batch_input.to(train_config.device)\n",
    "\n",
    "        output = model(data)\n",
    "\n",
    "        # get probability score using softmax\n",
    "        prob = F.softmax(output, dim=1)\n",
    "\n",
    "        # get the max probability\n",
    "        pred_prob = prob.data.max(dim=1)[0]\n",
    "\n",
    "        # get the index of the max probability\n",
    "        pred_index = prob.data.max(dim=1)[1]\n",
    "    \n",
    "    return pred_index.cpu().numpy(), pred_prob.cpu().numpy()"
   ]
  },
  {
   "cell_type": "markdown",
   "metadata": {},
   "source": [
    "## <font style=\"color:green\">15. Run Inference on Sample Images </font><a name=\"infer\"></a>\n",
    "\n",
    "For prediction, we need to transform the data like we did for training."
   ]
  },
  {
   "cell_type": "code",
   "execution_count": 22,
   "metadata": {
    "lines_to_next_cell": 2
   },
   "outputs": [
    {
     "data": {
      "image/png": "[encoded data removed]",
      "text/plain": [
       "<Figure size 300x300 with 1 Axes>"
      ]
     },
     "metadata": {},
     "output_type": "display_data"
    },
    {
     "data": {
      "image/png": "[encoded data removed]",
      "text/plain": [
       "<Figure size 300x300 with 1 Axes>"
      ]
     },
     "metadata": {},
     "output_type": "display_data"
    },
    {
     "data": {
      "image/png": "[encoded data removed]",
      "text/plain": [
       "<Figure size 300x300 with 1 Axes>"
      ]
     },
     "metadata": {},
     "output_type": "display_data"
    },
    {
     "data": {
      "image/png": "[encoded data removed]",
      "text/plain": [
       "<Figure size 300x300 with 1 Axes>"
      ]
     },
     "metadata": {},
     "output_type": "display_data"
    },
    {
     "data": {
      "image/png": "[encoded data removed]",
      "text/plain": [
       "<Figure size 300x300 with 1 Axes>"
      ]
     },
     "metadata": {},
     "output_type": "display_data"
    }
   ],
   "source": [
    "batch_size = 5\n",
    "train_config = TrainingConfiguration()\n",
    "\n",
    "if torch.cuda.is_available():\n",
    "    train_config.device = \"cuda\"\n",
    "else:\n",
    "    train_config.device = \"cpu\"\n",
    "\n",
    "# load test data without image transformation\n",
    "test = torch.utils.data.DataLoader(\n",
    "    datasets.MNIST(root=train_config.data_root, train=False, download=True, \n",
    "                   transform=transforms.functional.to_tensor),\n",
    "    batch_size=batch_size,\n",
    "    shuffle=False,\n",
    "    num_workers=1\n",
    "    )\n",
    "\n",
    "image_transforms = transforms.Compose([\n",
    "    transforms.Resize((32, 32)),\n",
    "    transforms.ToTensor(),\n",
    "    transforms.Normalize((0.1307, ), (0.3081, ))\n",
    "    ])\n",
    "\n",
    "test_trans = torch.utils.data.DataLoader(\n",
    "    datasets.MNIST(root=train_config.data_root, train=False, download=True, transform=image_transforms),\n",
    "    batch_size=batch_size,\n",
    "    shuffle=False,\n",
    "    num_workers=1\n",
    "    )\n",
    "\n",
    "for data, _ in test_trans:\n",
    "    # pass the loaded model\n",
    "    pred, prob = prediction(lenet5_mnist, train_config, data)\n",
    "    break\n",
    "    \n",
    "\n",
    "plt.rcParams[\"figure.figsize\"] = (3, 3)\n",
    "for images, _ in test:\n",
    "    for i, img in enumerate(images):\n",
    "        img = transforms.functional.to_pil_image(img)\n",
    "        plt.imshow(img, cmap='gray')\n",
    "        plt.gca().set_title('Prediction: {0}, Prob: {1:.2}'.format(pred[i], prob[i]))\n",
    "        plt.show()\n",
    "    break"
   ]
  },
  {
   "cell_type": "markdown",
   "metadata": {},
   "source": [
    "# <font style=\"color:blue\">References</font><a name=\"refs\"></a>\n",
    "\n",
    "1. https://pytorch.org/tutorials/beginner/data_loading_tutorial.html\n",
    "1. https://pytorch.org/tutorials/beginner/saving_loading_models.html"
   ]
  }
 ],
 "metadata": {
  "jupytext": {
   "encoding": "# -*- coding: utf-8 -*-"
  },
  "kernelspec": {
   "display_name": "opencv-env",
   "language": "python",
   "name": "opencv-env"
  },
  "language_info": {
   "codemirror_mode": {
    "name": "ipython",
    "version": 3
   },
   "file_extension": ".py",
   "mimetype": "text/x-python",
   "name": "python",
   "nbconvert_exporter": "python",
   "pygments_lexer": "ipython3",
   "version": "3.11.9"
  }
 },
 "nbformat": 4,
 "nbformat_minor": 2
}
