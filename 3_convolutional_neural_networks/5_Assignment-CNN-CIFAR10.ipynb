{
 "cells": [
  {
   "cell_type": "markdown",
   "metadata": {
    "deletable": false,
    "editable": false,
    "nbgrader": {
     "grade": false,
     "locked": true,
     "solution": false
    }
   },
   "source": [
    "# <font style=\"color:blue\">Assignment: Implement a CNN for Image Classification on CIFAR10 dataset</font>\n",
    "\n",
    "We have seen how to implement a CNN (LeNet5 and LeNet with the batch norm) in the last section. We used MNIST and Fashion MNIST dataset which are grayscale or single channel datasets. In this assignment, you will implement a CNN Model ( similar to LeNet ) for classifying objects in the `CIFAR10` dataset. \n",
    "\n",
    "The CIFAR10 dataset has the following properties\n",
    "1. It has `10` classes.  \n",
    "1. It has colored images, so it has `3-channels`. \n",
    "1. The image shape is `32 x 32`.\n",
    "\n",
    "Samples of CIFAR10- dataset ([source](https://pytorch.org/tutorials/beginner/blitz/cifar10_tutorial.html?highlight=cifar)):\n",
    "\n",
    "<img src=\"https://www.learnopencv.com/wp-content/uploads/2020/01/c3_w3_cirar10.png\" width=700>\n",
    "\n",
    "\n",
    "# <font color='blue'>Marking Scheme</font>\n",
    "\n",
    "### <font style=\"color:green\">Maximum Points: 30\n",
    "\n",
    "<div>\n",
    "    <table>\n",
    "        <tr><td><h3>Sr. no.</h3></td> <td><h3>Problem</h3></td> <td><h3>Points</h3></td> </tr>\n",
    "        <tr><td><h3>1</h3></td> <td><h3>Implement the CNN Model</h3></td> <td><h3>10</h3></td> </tr>\n",
    "        <tr><td><h3>2</h3></td> <td><h3>Find Mean and Std of Training Data</h3></td> <td><h3>5</h3></td> </tr>\n",
    "        <tr><td><h3>3</h3></td> <td><h3>Model Training & Accuracy</h3></td> <td><h3>15</h3></td> </tr>\n",
    "    </table>\n",
    "</div>\n",
    "\n",
    "\n",
    "# <font color='blue'>Problem Description</font>\n",
    "\n",
    "### <font color='blue'>1. Implement the CNN Model</font>\n",
    "Since the task is to classify objects in a dataset of color images, you need to implement a CNN with 10 output classes. **Also, your model must use `Conv2d`, `BatchNorm2d`, and `ReLU`.** \n",
    "\n",
    "**You need to define the model architecture in the function: `MyModel` ( Step 1 )**\n",
    "\n",
    "Hint: For color images you need to use an input shape that is different than the ones we have been using till now, so that it accepts 3 channel inputs.\n",
    "\n",
    "### <font color='blue'>2. Find Mean and Std of Training Data</font>\n",
    "\n",
    "It is a good practice to normalize the training data. To normalize the data, we need to compute mean and std. As the dataset has colored images, it has `3-channel` (RGB or BGR). We have to find mean and std per channel using training data. \n",
    "\n",
    "**You need to compute the mean and std for the dataset in the function: `get_mean_std_train_data` ( Step 3 )**\n",
    "\n",
    "### <font color='blue'>3. Model Training and Accuracy</font>\n",
    "\n",
    "Once you have defined the model, you can train it. To get better accuracy, you need to play around the training configuration **( Step 5 )** and even the model architecture. You can check the accuracy by running the training loop in `Step 11`.\n",
    "\n",
    "Here are a few hints on how you can improve the accuracy:\n",
    "- Train for longer duration\n",
    "- Try with different learning rate\n",
    "- Try to add more convolutional layers to the architecture\n",
    "- Try to add more nodes in the layers.\n",
    "\n",
    "You need to achieve **75% accuracy** ( See Step11 ) in order to get full marks for this part. \n",
    "\n",
    "**You do not need to implement anything for this, just changing the parameters as mentioned above and running the Notebook will give you the accuracy. ( Step 5 and Step 11 )**"
   ]
  },
  {
   "cell_type": "markdown",
   "metadata": {
    "deletable": false,
    "editable": false,
    "nbgrader": {
     "grade": false,
     "locked": true,
     "solution": false
    }
   },
   "source": [
    "Note that this notebook requires you to change a few stuff in the model to get the desired accuracy. Therefore you need train the model all over again (which seems to be time-consuming).   \n",
    "\n",
    "You can choose to execute this notebook in Google-Colab so that you have access to a GPU-machine and prototype faster.   \n",
    "\n",
    "Once the desired results are acheived, you can copy-paste the changes made in the Colab-notebook to this notebook so that the grading occurs on the latest code. \n",
    "\n",
    "You can access the Colab-notebook from [here](https://colab.research.google.com/drive/18lgSRmHPagJkB0xmDq5ZiWGkuWcHnUc2?usp=sharing)"
   ]
  },
  {
   "cell_type": "code",
   "execution_count": 1,
   "metadata": {
    "collapsed": true,
    "deletable": false,
    "editable": false,
    "nbgrader": {
     "grade": false,
     "locked": true,
     "solution": false
    }
   },
   "outputs": [],
   "source": [
    "required_training = True"
   ]
  },
  {
   "cell_type": "code",
   "execution_count": 2,
   "metadata": {
    "deletable": false,
    "editable": false,
    "nbgrader": {
     "grade": false,
     "locked": true,
     "solution": false
    }
   },
   "outputs": [
    {
     "name": "stderr",
     "output_type": "stream",
     "text": [
      "Matplotlib is building the font cache; this may take a moment.\n"
     ]
    }
   ],
   "source": [
    "%matplotlib inline"
   ]
  },
  {
   "cell_type": "code",
   "execution_count": 3,
   "metadata": {
    "collapsed": true,
    "deletable": false,
    "editable": false,
    "nbgrader": {
     "grade": false,
     "locked": true,
     "solution": false
    }
   },
   "outputs": [],
   "source": [
    "import matplotlib.pyplot as plt  # one of the best graphics library for python"
   ]
  },
  {
   "cell_type": "code",
   "execution_count": 4,
   "metadata": {
    "collapsed": true,
    "deletable": false,
    "editable": false,
    "nbgrader": {
     "grade": false,
     "locked": true,
     "solution": false
    }
   },
   "outputs": [],
   "source": [
    "import os\n",
    "import time\n",
    "\n",
    "from typing import Iterable\n",
    "from dataclasses import dataclass\n",
    "\n",
    "import numpy as np\n",
    "import torch\n",
    "import torch.nn as nn\n",
    "import torch.optim as optim\n",
    "import torch.nn.functional as F\n",
    "\n",
    "from torchvision import datasets, transforms\n",
    "import torchvision"
   ]
  },
  {
   "cell_type": "markdown",
   "metadata": {},
   "source": [
    "# <font style=\"color:blue\">1. CNN Model Architecture [10 Points]</font>\n",
    "\n",
    "You have to write the model code here. You can take reference from LeNet code.\n",
    "\n",
    "If you do not get higher accuracy, here are a few hints:\n",
    "- Try to add more convolutional layers to the architecture\n",
    "- Try to add more nodes in the layers.\n"
   ]
  },
  {
   "cell_type": "code",
   "execution_count": 124,
   "metadata": {},
   "outputs": [],
   "source": [
    "class MyModel(nn.Module):\n",
    "    def __init__(self):\n",
    "        super().__init__()\n",
    "\n",
    "        # convolution layers\n",
    "        self._body = nn.Sequential(\n",
    "            # First convolution Layer\n",
    "            # input size = (32, 32), output size = (32, 32)\n",
    "            nn.Conv2d(in_channels=3, out_channels=16, kernel_size=5, padding=2),\n",
    "            nn.BatchNorm2d(16),\n",
    "            nn.ReLU(inplace=True),\n",
    "            nn.MaxPool2d(kernel_size=2), # output size = (16, 16)\n",
    "            \n",
    "            # Second convolution layer\n",
    "            # input size = (16, 16), output size = (16, 16)\n",
    "            nn.Conv2d(in_channels=16, out_channels=32, kernel_size=5, padding=2),\n",
    "            nn.BatchNorm2d(32),\n",
    "            nn.ReLU(inplace=True),\n",
    "            nn.MaxPool2d(kernel_size=2), # output size = (8, 8)\n",
    "            \n",
    "            # Third convolution layer\n",
    "            # input size = (8, 8), output size = (8, 8)\n",
    "            nn.Conv2d(in_channels=32, out_channels=64, kernel_size=3, padding=1),\n",
    "            nn.BatchNorm2d(64),\n",
    "            nn.ReLU(inplace=True)\n",
    "        )\n",
    "        \n",
    "        # Fully connected layers\n",
    "        self._head = nn.Sequential(\n",
    "            # First fully connected layer\n",
    "            # in_features = total number of weights in last conv layer\n",
    "            nn.Linear(in_features=64 * 8 * 8, out_features=120), \n",
    "            nn.ReLU(inplace=True),\n",
    "            \n",
    "            # in_features = output of last linear layer = 120 \n",
    "            nn.Linear(in_features=120, out_features=84), \n",
    "            nn.ReLU(inplace=True),\n",
    "            \n",
    "            # in_features = output of last linear layer = 84\n",
    "            # and out_features = number of classes = 10 (MNIST data 0-9)\n",
    "            nn.Linear(in_features=84, out_features=10)\n",
    "        )\n",
    "        \n",
    "    def forward(self, x):\n",
    "        # apply feature extractor\n",
    "        x = self._body(x)\n",
    "        # flatten the output of conv layers\n",
    "        # dimension should be batch_size * number_of weight_in_last conv_layer\n",
    "        x = x.view(x.size()[0], -1)\n",
    "        # apply classification head\n",
    "        x = self._head(x)\n",
    "        \n",
    "        return x"
   ]
  },
  {
   "cell_type": "markdown",
   "metadata": {
    "deletable": false,
    "editable": false,
    "nbgrader": {
     "grade": false,
     "locked": true,
     "solution": false
    }
   },
   "source": [
    "# <font style=\"color:blue\">2. Display the Network</font>"
   ]
  },
  {
   "cell_type": "code",
   "execution_count": 54,
   "metadata": {
    "deletable": false,
    "editable": false,
    "nbgrader": {
     "grade": false,
     "locked": true,
     "solution": false
    }
   },
   "outputs": [
    {
     "name": "stdout",
     "output_type": "stream",
     "text": [
      "MyModel(\n",
      "  (_body): Sequential(\n",
      "    (0): Conv2d(3, 6, kernel_size=(5, 5), stride=(1, 1))\n",
      "    (1): BatchNorm2d(6, eps=1e-05, momentum=0.1, affine=True, track_running_stats=True)\n",
      "    (2): ReLU(inplace=True)\n",
      "    (3): MaxPool2d(kernel_size=2, stride=2, padding=0, dilation=1, ceil_mode=False)\n",
      "    (4): Conv2d(6, 16, kernel_size=(5, 5), stride=(1, 1))\n",
      "    (5): BatchNorm2d(16, eps=1e-05, momentum=0.1, affine=True, track_running_stats=True)\n",
      "    (6): ReLU(inplace=True)\n",
      "    (7): MaxPool2d(kernel_size=2, stride=2, padding=0, dilation=1, ceil_mode=False)\n",
      "  )\n",
      "  (_head): Sequential(\n",
      "    (0): Linear(in_features=400, out_features=120, bias=True)\n",
      "    (1): ReLU(inplace=True)\n",
      "    (2): Linear(in_features=120, out_features=84, bias=True)\n",
      "    (3): ReLU(inplace=True)\n",
      "    (4): Linear(in_features=84, out_features=10, bias=True)\n",
      "  )\n",
      ")\n"
     ]
    }
   ],
   "source": [
    "my_model = MyModel()\n",
    "print(my_model)"
   ]
  },
  {
   "cell_type": "code",
   "execution_count": 8,
   "metadata": {
    "collapsed": true,
    "deletable": false,
    "editable": false,
    "nbgrader": {
     "grade": true,
     "grade_id": "Conv2d",
     "locked": true,
     "points": "3",
     "solution": false
    }
   },
   "outputs": [],
   "source": [
    "###\n",
    "### AUTOGRADER TEST - DO NOT REMOVE\n",
    "###\n"
   ]
  },
  {
   "cell_type": "code",
   "execution_count": 9,
   "metadata": {
    "collapsed": true,
    "deletable": false,
    "editable": false,
    "nbgrader": {
     "grade": true,
     "grade_id": "BatchNorm2d",
     "locked": true,
     "points": "2",
     "solution": false
    }
   },
   "outputs": [],
   "source": [
    "###\n",
    "### AUTOGRADER TEST - DO NOT REMOVE\n",
    "###\n"
   ]
  },
  {
   "cell_type": "code",
   "execution_count": 10,
   "metadata": {
    "collapsed": true,
    "deletable": false,
    "editable": false,
    "nbgrader": {
     "grade": true,
     "grade_id": "ReLU",
     "locked": true,
     "points": "2",
     "solution": false
    }
   },
   "outputs": [],
   "source": [
    "###\n",
    "### AUTOGRADER TEST - DO NOT REMOVE\n",
    "###\n"
   ]
  },
  {
   "cell_type": "code",
   "execution_count": 11,
   "metadata": {
    "collapsed": true,
    "deletable": false,
    "editable": false,
    "nbgrader": {
     "grade": true,
     "grade_id": "input-output",
     "locked": true,
     "points": "3",
     "solution": false
    }
   },
   "outputs": [],
   "source": [
    "###\n",
    "### AUTOGRADER TEST - DO NOT REMOVE\n",
    "###\n"
   ]
  },
  {
   "cell_type": "markdown",
   "metadata": {
    "deletable": false,
    "editable": false,
    "lines_to_next_cell": 2,
    "nbgrader": {
     "grade": false,
     "locked": true,
     "solution": false
    }
   },
   "source": [
    "# <font style=\"color:blue\">3. Find Mean and STD of CIFAR10 Data [5 Points]</font>\n",
    "\n",
    "Function **`get_mean_std_train_data`** should `return` `mean` and `std` of training data. You can refer to the code used in the previous section for finding the mean and std of the training data.\n",
    "\n"
   ]
  },
  {
   "cell_type": "code",
   "execution_count": 55,
   "metadata": {
    "nbgrader": {
     "grade": false,
     "locked": false,
     "solution": false
    }
   },
   "outputs": [
    {
     "data": {
      "text/plain": [
       "(array([0.49139968, 0.48215841, 0.44653091]),\n",
       " array([0.24703223, 0.24348513, 0.26158784]))"
      ]
     },
     "execution_count": 55,
     "metadata": {},
     "output_type": "execute_result"
    }
   ],
   "source": [
    "def get_mean_std_train_data(data_root):\n",
    "    \n",
    "    train_transform = transforms.Compose([transforms.ToTensor()])\n",
    "    train_set = datasets.CIFAR10(root=data_root, train=True, download=False, transform=train_transform)\n",
    "    \n",
    "    # return mean (numpy.ndarray) and std (numpy.ndarray)\n",
    "    mean = np.array([0.5, 0.5, 0.5])\n",
    "    std = np.array([0.5, 0.5, 0.5])\n",
    "    \n",
    "    data = train_set.data / 255\n",
    "    mean = data.mean(axis= (0,1,2))\n",
    "    std  = data.std(axis = (0,1,2))\n",
    "\n",
    "    return mean, std\n",
    "\n",
    "\n",
    "get_mean_std_train_data(\"../resource/lib/publicdata/images\")"
   ]
  },
  {
   "cell_type": "code",
   "execution_count": 13,
   "metadata": {
    "collapsed": true,
    "deletable": false,
    "editable": false,
    "lines_to_next_cell": 2,
    "nbgrader": {
     "grade": true,
     "grade_id": "mean",
     "locked": true,
     "points": "2",
     "solution": false
    }
   },
   "outputs": [],
   "source": [
    "###\n",
    "### AUTOGRADER TEST - DO NOT REMOVE\n",
    "###\n"
   ]
  },
  {
   "cell_type": "code",
   "execution_count": 14,
   "metadata": {
    "collapsed": true,
    "deletable": false,
    "editable": false,
    "lines_to_next_cell": 2,
    "nbgrader": {
     "grade": true,
     "grade_id": "std",
     "locked": true,
     "points": "3",
     "solution": false
    }
   },
   "outputs": [],
   "source": [
    "###\n",
    "### AUTOGRADER TEST - DO NOT REMOVE\n",
    "###\n"
   ]
  },
  {
   "cell_type": "code",
   "execution_count": 56,
   "metadata": {
    "collapsed": true,
    "deletable": false,
    "editable": false,
    "nbgrader": {
     "grade": false,
     "locked": true,
     "solution": false
    }
   },
   "outputs": [],
   "source": [
    "def get_data(batch_size, data_root, num_workers=1):\n",
    "    \n",
    "    \n",
    "    try:\n",
    "        mean, std = get_mean_std_train_data(data_root)\n",
    "        assert len(mean) == len(std) == 3\n",
    "    except:\n",
    "        mean = np.array([0.5, 0.5, 0.5])\n",
    "        std = np.array([0.5, 0.5, 0.5])\n",
    "        \n",
    "    \n",
    "    train_test_transforms = transforms.Compose([\n",
    "        # this re-scale image tensor values between 0-1. image_tensor /= 255\n",
    "        transforms.ToTensor(),\n",
    "        # subtract mean and divide by variance.\n",
    "        transforms.Normalize(mean, std)\n",
    "    ])\n",
    "    \n",
    "    # train dataloader\n",
    "    train_loader = torch.utils.data.DataLoader(\n",
    "        datasets.CIFAR10(root=data_root, train=True, download=False, transform=train_test_transforms),\n",
    "        batch_size=batch_size,\n",
    "        shuffle=True,\n",
    "        num_workers=num_workers\n",
    "    )\n",
    "    \n",
    "    # test dataloader\n",
    "    test_loader = torch.utils.data.DataLoader(\n",
    "        datasets.CIFAR10(root=data_root, train=False, download=False, transform=train_test_transforms),\n",
    "        batch_size=batch_size,\n",
    "        shuffle=False,\n",
    "        num_workers=num_workers\n",
    "    )\n",
    "    return train_loader, test_loader"
   ]
  },
  {
   "cell_type": "markdown",
   "metadata": {
    "deletable": false,
    "editable": false,
    "nbgrader": {
     "grade": false,
     "locked": true,
     "solution": false
    }
   },
   "source": [
    "# <font style=\"color:blue\">4. System Configuration</font>\n"
   ]
  },
  {
   "cell_type": "code",
   "execution_count": 57,
   "metadata": {
    "collapsed": true,
    "deletable": false,
    "editable": false,
    "nbgrader": {
     "grade": false,
     "locked": true,
     "solution": false
    }
   },
   "outputs": [],
   "source": [
    "@dataclass\n",
    "class SystemConfiguration:\n",
    "    '''\n",
    "    Describes the common system setting needed for reproducible training\n",
    "    '''\n",
    "    seed: int = 42  # seed number to set the state of all random number generators\n",
    "    cudnn_benchmark_enabled: bool = True  # enable CuDNN benchmark for the sake of performance\n",
    "    cudnn_deterministic: bool = True  # make cudnn deterministic (reproducible training)"
   ]
  },
  {
   "cell_type": "markdown",
   "metadata": {
    "deletable": false,
    "editable": false,
    "nbgrader": {
     "grade": false,
     "locked": true,
     "solution": false
    }
   },
   "source": [
    "# <font style=\"color:blue\">5. Training Configuration [15 Points]</font>\n",
    "All training parameters are defined here. So, \n",
    "This is where you can improve your accuracy, apart from improving the architecture. \n",
    "\n",
    "Here are a few hints on how you can improve the accuracy:\n",
    "- Train for longer duration\n",
    "- Try with different learning rate\n",
    "\n",
    "**You need to achieve 75% accuracy in order to get full marks for this part.**\n",
    "\n",
    "**You will see the effect of these changes when you run Step 11**"
   ]
  },
  {
   "cell_type": "code",
   "execution_count": 128,
   "metadata": {
    "collapsed": true,
    "nbgrader": {
     "grade": false,
     "locked": false,
     "solution": false
    }
   },
   "outputs": [],
   "source": [
    "@dataclass\n",
    "class TrainingConfiguration:\n",
    "    '''\n",
    "    Describes configuration of the training process\n",
    "    '''\n",
    "    batch_size: int = 16  # amount of data to pass through the network at each forward-backward iteration\n",
    "    epochs_count: int = 2  # number of times the whole dataset will be passed through the network\n",
    "    learning_rate: float = 0.1  # determines the speed of network's weights update\n",
    "        \n",
    "    log_interval: int = 100  # how many batches to wait between logging training status\n",
    "    test_interval: int = 1  # how many epochs to wait before another test. Set to 1 to get val loss at each epoch\n",
    "    data_root: str = \"../resource/lib/publicdata/images\"  # folder to save data\n",
    "    num_workers: int = 10  # number of concurrent processes using to prepare data\n",
    "    device: str = 'cuda'  # device to use for training.\n",
    "    # update changed parameters in blow coding block.\n",
    "    # Please do not change \"data_root\" \n",
    "    \n",
    "    ###\n",
    "    batch_size: int = 32\n",
    "    epochs_count: int = 17\n",
    "    learning_rate: float = 0.005\n",
    "    ###\n"
   ]
  },
  {
   "cell_type": "markdown",
   "metadata": {
    "deletable": false,
    "editable": false,
    "nbgrader": {
     "grade": false,
     "locked": true,
     "solution": false
    }
   },
   "source": [
    "# <font style=\"color:blue\">6. System Setup</font>\n"
   ]
  },
  {
   "cell_type": "code",
   "execution_count": 59,
   "metadata": {
    "collapsed": true,
    "deletable": false,
    "editable": false,
    "nbgrader": {
     "grade": false,
     "locked": true,
     "solution": false
    }
   },
   "outputs": [],
   "source": [
    "def setup_system(system_config: SystemConfiguration) -> None:\n",
    "    torch.manual_seed(system_config.seed)\n",
    "    if torch.cuda.is_available():\n",
    "        torch.backends.cudnn_benchmark_enabled = system_config.cudnn_benchmark_enabled\n",
    "        torch.backends.cudnn.deterministic = system_config.cudnn_deterministic"
   ]
  },
  {
   "cell_type": "markdown",
   "metadata": {
    "deletable": false,
    "editable": false,
    "nbgrader": {
     "grade": false,
     "locked": true,
     "solution": false
    }
   },
   "source": [
    "# <font style=\"color:blue\">7. Training</font>\n",
    "We are familiar with the training pipeline used in PyTorch. The following steps are performed in the code below:\n",
    "\n",
    "1. Send the data to the required device ( CPU/GPU )\n",
    "1. Make a forward pass using the forward method.\n",
    "1. Find the loss using the Cross_Entropy function.\n",
    "1. Find the gradients using the backward function.\n",
    "1. Update the weights using the optimizer.\n",
    "1. Find the accuracy of the model\n",
    "\n",
    "Repeat the above for the specified number of epochs."
   ]
  },
  {
   "cell_type": "code",
   "execution_count": 60,
   "metadata": {
    "collapsed": true,
    "deletable": false,
    "editable": false,
    "nbgrader": {
     "grade": false,
     "locked": true,
     "solution": false
    }
   },
   "outputs": [],
   "source": [
    "def train(\n",
    "    train_config: TrainingConfiguration, model: nn.Module, optimizer: torch.optim.Optimizer,\n",
    "    train_loader: torch.utils.data.DataLoader, epoch_idx: int\n",
    ") -> None:\n",
    "    \n",
    "    # change model in training mood\n",
    "    model.train()\n",
    "    \n",
    "    # to get batch loss\n",
    "    batch_loss = np.array([])\n",
    "    \n",
    "    # to get batch accuracy\n",
    "    batch_acc = np.array([])\n",
    "        \n",
    "    for batch_idx, (data, target) in enumerate(train_loader):\n",
    "        \n",
    "        # clone target\n",
    "        indx_target = target.clone()\n",
    "        # send data to device (its is medatory if GPU has to be used)\n",
    "        data = data.to(train_config.device)\n",
    "        # send target to device\n",
    "        target = target.to(train_config.device)\n",
    "\n",
    "        # reset parameters gradient to zero\n",
    "        optimizer.zero_grad()\n",
    "        \n",
    "        # forward pass to the model\n",
    "        output = model(data)\n",
    "        \n",
    "        # cross entropy loss\n",
    "        loss = F.cross_entropy(output, target)\n",
    "        \n",
    "        # find gradients w.r.t training parameters\n",
    "        loss.backward()\n",
    "        # Update parameters using gardients\n",
    "        optimizer.step()\n",
    "        \n",
    "        batch_loss = np.append(batch_loss, [loss.item()])\n",
    "        \n",
    "        # Score to probability using softmax\n",
    "        prob = F.softmax(output, dim=1)\n",
    "            \n",
    "        # get the index of the max probability\n",
    "        pred = prob.data.max(dim=1)[1]  \n",
    "                        \n",
    "        # correct prediction\n",
    "        correct = pred.cpu().eq(indx_target).sum()\n",
    "            \n",
    "        # accuracy\n",
    "        acc = float(correct) / float(len(data))\n",
    "        \n",
    "        batch_acc = np.append(batch_acc, [acc])\n",
    "\n",
    "        if batch_idx % train_config.log_interval == 0 and batch_idx > 0:              \n",
    "            print(\n",
    "                'Train Epoch: {} [{}/{}] Loss: {:.6f} Acc: {:.4f}'.format(\n",
    "                    epoch_idx, batch_idx * len(data), len(train_loader.dataset), loss.item(), acc\n",
    "                )\n",
    "            )\n",
    "            \n",
    "    epoch_loss = batch_loss.mean()\n",
    "    epoch_acc = batch_acc.mean()\n",
    "    return epoch_loss, epoch_acc"
   ]
  },
  {
   "cell_type": "markdown",
   "metadata": {
    "deletable": false,
    "editable": false,
    "nbgrader": {
     "grade": false,
     "locked": true,
     "solution": false
    }
   },
   "source": [
    "# <font style=\"color:blue\">8. Validation</font>\n",
    "\n",
    "After every few epochs **`validation`** will be called with the `trained model` and `test_loader` to get validation loss and accuracy."
   ]
  },
  {
   "cell_type": "code",
   "execution_count": 20,
   "metadata": {
    "collapsed": true,
    "deletable": false,
    "editable": false,
    "nbgrader": {
     "grade": false,
     "locked": true,
     "solution": false
    }
   },
   "outputs": [],
   "source": [
    "def validate(\n",
    "    train_config: TrainingConfiguration,\n",
    "    model: nn.Module,\n",
    "    test_loader: torch.utils.data.DataLoader,\n",
    ") -> float:\n",
    "    model.eval()\n",
    "    test_loss = 0\n",
    "    count_corect_predictions = 0\n",
    "    for data, target in test_loader:\n",
    "        indx_target = target.clone()\n",
    "        data = data.to(train_config.device)\n",
    "        \n",
    "        target = target.to(train_config.device)\n",
    "        \n",
    "        output = model(data)\n",
    "        # add loss for each mini batch\n",
    "        test_loss += F.cross_entropy(output, target).item()\n",
    "        \n",
    "        # Score to probability using softmax\n",
    "        prob = F.softmax(output, dim=1)\n",
    "        \n",
    "        # get the index of the max probability\n",
    "        pred = prob.data.max(dim=1)[1] \n",
    "        \n",
    "        # add correct prediction count\n",
    "        count_corect_predictions += pred.cpu().eq(indx_target).sum()\n",
    "\n",
    "    # average over number of mini-batches\n",
    "    test_loss = test_loss / len(test_loader)  \n",
    "    \n",
    "    # average over number of dataset\n",
    "    accuracy = 100. * count_corect_predictions / len(test_loader.dataset)\n",
    "    \n",
    "    print(\n",
    "        '\\nTest set: Average loss: {:.4f}, Accuracy: {}/{} ({:.0f}%)\\n'.format(\n",
    "            test_loss, count_corect_predictions, len(test_loader.dataset), accuracy\n",
    "        )\n",
    "    )\n",
    "    return test_loss, accuracy/100.0"
   ]
  },
  {
   "cell_type": "markdown",
   "metadata": {
    "deletable": false,
    "editable": false,
    "nbgrader": {
     "grade": false,
     "locked": true,
     "solution": false
    }
   },
   "source": [
    "# <font style=\"color:blue\">9. Saving the Model</font>"
   ]
  },
  {
   "cell_type": "code",
   "execution_count": 21,
   "metadata": {
    "collapsed": true,
    "deletable": false,
    "editable": false,
    "nbgrader": {
     "grade": false,
     "locked": true,
     "solution": false
    }
   },
   "outputs": [],
   "source": [
    "def save_model(model, device, model_dir='models', model_file_name='cifar10_cnn_model.pt'):\n",
    "    \n",
    "\n",
    "    if not os.path.exists(model_dir):\n",
    "        os.makedirs(model_dir)\n",
    "\n",
    "    model_path = os.path.join(model_dir, model_file_name)\n",
    "\n",
    "    # make sure you transfer the model to cpu.\n",
    "    if device == 'cuda':\n",
    "        model.to('cpu')\n",
    "\n",
    "    # save the state_dict\n",
    "    if int(torch.__version__.split('.')[1]) >= 6:\n",
    "        torch.save(model.state_dict(), model_path, _use_new_zipfile_serialization=False)\n",
    "    \n",
    "    else:\n",
    "        torch.save(model.state_dict(), model_path)\n",
    "    \n",
    "    if device == 'cuda':\n",
    "        model.to('cuda')\n",
    "    \n",
    "    return"
   ]
  },
  {
   "cell_type": "markdown",
   "metadata": {
    "deletable": false,
    "editable": false,
    "nbgrader": {
     "grade": false,
     "locked": true,
     "solution": false
    }
   },
   "source": [
    "# <font style=\"color:blue\">10. Main</font>\n",
    "\n",
    "In this section of code, we use the configuration parameters defined above and start the training. Here are the important actions being taken in the code below:\n",
    "\n",
    "1. Set up system parameters like CPU/GPU, number of threads etc\n",
    "1. Load the data using dataloaders\n",
    "1. Create an instance of the LeNet model\n",
    "1. Specify optimizer to use.\n",
    "1. Set up variables to track loss and accuracy and start training.\n",
    "1. If loss decreases, saving the model"
   ]
  },
  {
   "cell_type": "code",
   "execution_count": 22,
   "metadata": {
    "collapsed": true,
    "deletable": false,
    "editable": false,
    "nbgrader": {
     "grade": false,
     "locked": true,
     "solution": false
    }
   },
   "outputs": [],
   "source": [
    "def main(system_configuration=SystemConfiguration(), training_configuration=TrainingConfiguration()):\n",
    "    \n",
    "    # system configuration\n",
    "    setup_system(system_configuration)\n",
    "\n",
    "    # batch size\n",
    "    batch_size_to_set = training_configuration.batch_size\n",
    "    # num_workers\n",
    "    num_workers_to_set = training_configuration.num_workers\n",
    "    # epochs\n",
    "    epoch_num_to_set = training_configuration.epochs_count\n",
    "\n",
    "    # if GPU is available use training config, \n",
    "    # else lowers batch_size, num_workers and epochs count\n",
    "    if torch.cuda.is_available():\n",
    "        device = \"cuda\"\n",
    "    else:\n",
    "        device = \"cpu\"\n",
    "        num_workers_to_set = 2\n",
    "\n",
    "    # data loader\n",
    "    train_loader, test_loader = get_data(\n",
    "        batch_size=training_configuration.batch_size,\n",
    "        data_root=training_configuration.data_root,\n",
    "        num_workers=num_workers_to_set\n",
    "    )\n",
    "    \n",
    "    # Update training configuration\n",
    "    training_configuration = TrainingConfiguration(\n",
    "        device=device,\n",
    "        num_workers=num_workers_to_set\n",
    "    )\n",
    "\n",
    "    # initiate model\n",
    "    model = MyModel()\n",
    "        \n",
    "    # send model to device (GPU/CPU)\n",
    "    model.to(training_configuration.device)\n",
    "\n",
    "    # optimizer\n",
    "    optimizer = optim.SGD(\n",
    "        model.parameters(),\n",
    "        lr=training_configuration.learning_rate\n",
    "    )\n",
    "\n",
    "    best_loss = torch.tensor(np.inf)\n",
    "    best_accuracy = torch.tensor(0)\n",
    "    \n",
    "    # epoch train/test loss\n",
    "    epoch_train_loss = np.array([])\n",
    "    epoch_test_loss = np.array([])\n",
    "    \n",
    "    # epch train/test accuracy\n",
    "    epoch_train_acc = np.array([])\n",
    "    epoch_test_acc = np.array([])\n",
    "    \n",
    "    # trainig time measurement\n",
    "    t_begin = time.time()\n",
    "    for epoch in range(training_configuration.epochs_count):\n",
    "        \n",
    "        train_loss, train_acc = train(training_configuration, model, optimizer, train_loader, epoch)\n",
    "        \n",
    "        epoch_train_loss = np.append(epoch_train_loss, [train_loss])\n",
    "        \n",
    "        epoch_train_acc = np.append(epoch_train_acc, [train_acc])\n",
    "\n",
    "        elapsed_time = time.time() - t_begin\n",
    "        speed_epoch = elapsed_time / (epoch + 1)\n",
    "        speed_batch = speed_epoch / len(train_loader)\n",
    "        eta = speed_epoch * training_configuration.epochs_count - elapsed_time\n",
    "        \n",
    "        print(\n",
    "            \"Elapsed {:.2f}s, {:.2f} s/epoch, {:.2f} s/batch, ets {:.2f}s\".format(\n",
    "                elapsed_time, speed_epoch, speed_batch, eta\n",
    "            )\n",
    "        )\n",
    "\n",
    "        if epoch % training_configuration.test_interval == 0:\n",
    "            current_loss, current_accuracy = validate(training_configuration, model, test_loader)\n",
    "            \n",
    "            epoch_test_loss = np.append(epoch_test_loss, [current_loss])\n",
    "        \n",
    "            epoch_test_acc = np.append(epoch_test_acc, [current_accuracy])\n",
    "            \n",
    "            if current_loss < best_loss:\n",
    "                best_loss = current_loss\n",
    "            \n",
    "            if current_accuracy > best_accuracy:\n",
    "                best_accuracy = current_accuracy\n",
    "                print('Accuracy improved, saving the model.\\n')\n",
    "                save_model(model, device)\n",
    "            \n",
    "                \n",
    "    print(\"Total time: {:.2f}, Best Loss: {:.3f}, Best Accuracy: {:.3f}\".format(time.time() - t_begin, best_loss, \n",
    "                                                                                best_accuracy))\n",
    "    \n",
    "    return model, epoch_train_loss, epoch_train_acc, epoch_test_loss, epoch_test_acc"
   ]
  },
  {
   "cell_type": "code",
   "execution_count": 23,
   "metadata": {
    "collapsed": true,
    "deletable": false,
    "editable": false,
    "nbgrader": {
     "grade": true,
     "grade_id": "Accuracy",
     "locked": true,
     "points": "15",
     "solution": false
    }
   },
   "outputs": [],
   "source": [
    "###\n",
    "### AUTOGRADER TEST - DO NOT REMOVE\n",
    "###\n"
   ]
  },
  {
   "cell_type": "markdown",
   "metadata": {},
   "source": [
    "# <font style=\"color:blue\">Step 11: Start Training</font>\n",
    "This is where you start the training. You may see that the training does not converge or does not give a good accuracy. You need to change \n",
    "- In Step 1: the network architecture and add a few more layers or more nodes to the already existing layers\n",
    "- In Step 5: training parameters such as learning rate or batch_size or epochs so that the network converges or run the network for longer so that it gets more time to fit the data\n",
    "\n",
    "**You need to make sure that the accuracy at the end is at least 75%.**"
   ]
  },
  {
   "cell_type": "code",
   "execution_count": 129,
   "metadata": {
    "deletable": false,
    "editable": false,
    "nbgrader": {
     "grade": false,
     "locked": true,
     "solution": false
    },
    "scrolled": true
   },
   "outputs": [
    {
     "name": "stdout",
     "output_type": "stream",
     "text": [
      "Train Epoch: 0 [1600/50000] Loss: 2.296854 Acc: 0.1875\n",
      "Train Epoch: 0 [3200/50000] Loss: 2.084887 Acc: 0.3750\n",
      "Train Epoch: 0 [4800/50000] Loss: 2.072021 Acc: 0.1875\n",
      "Train Epoch: 0 [6400/50000] Loss: 1.783385 Acc: 0.3750\n",
      "Train Epoch: 0 [8000/50000] Loss: 1.757373 Acc: 0.3750\n",
      "Train Epoch: 0 [9600/50000] Loss: 1.702693 Acc: 0.4375\n",
      "Train Epoch: 0 [11200/50000] Loss: 1.542557 Acc: 0.5000\n",
      "Train Epoch: 0 [12800/50000] Loss: 1.432416 Acc: 0.6875\n",
      "Train Epoch: 0 [14400/50000] Loss: 1.360379 Acc: 0.3750\n",
      "Train Epoch: 0 [16000/50000] Loss: 1.745413 Acc: 0.2500\n",
      "Train Epoch: 0 [17600/50000] Loss: 1.111062 Acc: 0.5625\n",
      "Train Epoch: 0 [19200/50000] Loss: 1.354132 Acc: 0.3750\n",
      "Train Epoch: 0 [20800/50000] Loss: 1.104786 Acc: 0.6250\n",
      "Train Epoch: 0 [22400/50000] Loss: 1.453595 Acc: 0.5000\n",
      "Train Epoch: 0 [24000/50000] Loss: 1.461095 Acc: 0.5625\n",
      "Train Epoch: 0 [25600/50000] Loss: 1.691467 Acc: 0.4375\n",
      "Train Epoch: 0 [27200/50000] Loss: 1.878480 Acc: 0.2500\n",
      "Train Epoch: 0 [28800/50000] Loss: 1.297416 Acc: 0.7500\n",
      "Train Epoch: 0 [30400/50000] Loss: 1.376366 Acc: 0.3125\n",
      "Train Epoch: 0 [32000/50000] Loss: 1.448450 Acc: 0.4375\n",
      "Train Epoch: 0 [33600/50000] Loss: 1.057201 Acc: 0.6250\n",
      "Train Epoch: 0 [35200/50000] Loss: 1.675438 Acc: 0.3750\n",
      "Train Epoch: 0 [36800/50000] Loss: 1.265241 Acc: 0.5625\n",
      "Train Epoch: 0 [38400/50000] Loss: 1.521594 Acc: 0.5000\n",
      "Train Epoch: 0 [40000/50000] Loss: 1.153826 Acc: 0.5000\n",
      "Train Epoch: 0 [41600/50000] Loss: 1.754374 Acc: 0.4375\n",
      "Train Epoch: 0 [43200/50000] Loss: 1.130918 Acc: 0.5000\n",
      "Train Epoch: 0 [44800/50000] Loss: 0.756067 Acc: 0.8125\n",
      "Train Epoch: 0 [46400/50000] Loss: 1.561444 Acc: 0.3750\n",
      "Train Epoch: 0 [48000/50000] Loss: 1.251256 Acc: 0.5000\n",
      "Train Epoch: 0 [49600/50000] Loss: 1.223271 Acc: 0.5625\n",
      "Elapsed 34.52s, 34.52 s/epoch, 0.01 s/batch, ets 552.26s\n",
      "\n",
      "Test set: Average loss: 1.1873, Accuracy: 5696/10000 (57%)\n",
      "\n",
      "Accuracy improved, saving the model.\n",
      "\n",
      "Train Epoch: 1 [1600/50000] Loss: 1.025978 Acc: 0.7500\n",
      "Train Epoch: 1 [3200/50000] Loss: 1.893983 Acc: 0.3125\n",
      "Train Epoch: 1 [4800/50000] Loss: 1.562127 Acc: 0.5625\n",
      "Train Epoch: 1 [6400/50000] Loss: 1.214985 Acc: 0.5625\n",
      "Train Epoch: 1 [8000/50000] Loss: 1.162985 Acc: 0.7500\n",
      "Train Epoch: 1 [9600/50000] Loss: 0.741934 Acc: 0.6875\n",
      "Train Epoch: 1 [11200/50000] Loss: 0.991625 Acc: 0.7500\n",
      "Train Epoch: 1 [12800/50000] Loss: 1.211976 Acc: 0.4375\n",
      "Train Epoch: 1 [14400/50000] Loss: 0.590567 Acc: 0.8750\n",
      "Train Epoch: 1 [16000/50000] Loss: 1.243123 Acc: 0.6875\n",
      "Train Epoch: 1 [17600/50000] Loss: 0.733769 Acc: 0.8750\n",
      "Train Epoch: 1 [19200/50000] Loss: 0.976671 Acc: 0.6250\n",
      "Train Epoch: 1 [20800/50000] Loss: 1.215096 Acc: 0.6250\n",
      "Train Epoch: 1 [22400/50000] Loss: 1.484793 Acc: 0.5000\n",
      "Train Epoch: 1 [24000/50000] Loss: 1.114144 Acc: 0.6250\n",
      "Train Epoch: 1 [25600/50000] Loss: 1.123920 Acc: 0.5625\n",
      "Train Epoch: 1 [27200/50000] Loss: 1.144205 Acc: 0.5625\n",
      "Train Epoch: 1 [28800/50000] Loss: 1.144974 Acc: 0.5000\n",
      "Train Epoch: 1 [30400/50000] Loss: 1.218259 Acc: 0.5625\n",
      "Train Epoch: 1 [32000/50000] Loss: 1.340878 Acc: 0.6250\n",
      "Train Epoch: 1 [33600/50000] Loss: 0.674534 Acc: 0.8125\n",
      "Train Epoch: 1 [35200/50000] Loss: 1.269845 Acc: 0.5000\n",
      "Train Epoch: 1 [36800/50000] Loss: 1.299525 Acc: 0.5625\n",
      "Train Epoch: 1 [38400/50000] Loss: 1.501828 Acc: 0.5000\n",
      "Train Epoch: 1 [40000/50000] Loss: 1.238491 Acc: 0.6875\n",
      "Train Epoch: 1 [41600/50000] Loss: 0.405228 Acc: 0.8750\n",
      "Train Epoch: 1 [43200/50000] Loss: 0.757477 Acc: 0.6250\n",
      "Train Epoch: 1 [44800/50000] Loss: 1.046279 Acc: 0.6250\n",
      "Train Epoch: 1 [46400/50000] Loss: 1.020922 Acc: 0.6250\n",
      "Train Epoch: 1 [48000/50000] Loss: 0.985288 Acc: 0.6250\n",
      "Train Epoch: 1 [49600/50000] Loss: 0.951623 Acc: 0.5000\n",
      "Elapsed 71.69s, 35.84 s/epoch, 0.01 s/batch, ets 537.65s\n",
      "\n",
      "Test set: Average loss: 1.0214, Accuracy: 6361/10000 (64%)\n",
      "\n",
      "Accuracy improved, saving the model.\n",
      "\n",
      "Train Epoch: 2 [1600/50000] Loss: 1.099559 Acc: 0.6250\n",
      "Train Epoch: 2 [3200/50000] Loss: 0.710008 Acc: 0.6875\n",
      "Train Epoch: 2 [4800/50000] Loss: 1.061235 Acc: 0.6250\n",
      "Train Epoch: 2 [6400/50000] Loss: 0.736110 Acc: 0.7500\n",
      "Train Epoch: 2 [8000/50000] Loss: 0.769749 Acc: 0.6250\n",
      "Train Epoch: 2 [9600/50000] Loss: 0.630856 Acc: 0.6250\n",
      "Train Epoch: 2 [11200/50000] Loss: 0.653638 Acc: 0.8125\n",
      "Train Epoch: 2 [12800/50000] Loss: 0.846525 Acc: 0.6875\n",
      "Train Epoch: 2 [14400/50000] Loss: 0.742247 Acc: 0.8750\n",
      "Train Epoch: 2 [16000/50000] Loss: 0.945852 Acc: 0.7500\n",
      "Train Epoch: 2 [17600/50000] Loss: 0.684729 Acc: 0.6875\n",
      "Train Epoch: 2 [19200/50000] Loss: 1.124627 Acc: 0.6250\n",
      "Train Epoch: 2 [20800/50000] Loss: 0.697348 Acc: 0.6875\n",
      "Train Epoch: 2 [22400/50000] Loss: 0.662072 Acc: 0.7500\n",
      "Train Epoch: 2 [24000/50000] Loss: 1.057985 Acc: 0.6250\n",
      "Train Epoch: 2 [25600/50000] Loss: 0.774105 Acc: 0.7500\n",
      "Train Epoch: 2 [27200/50000] Loss: 0.840224 Acc: 0.8125\n",
      "Train Epoch: 2 [28800/50000] Loss: 0.929003 Acc: 0.7500\n",
      "Train Epoch: 2 [30400/50000] Loss: 1.040775 Acc: 0.6250\n",
      "Train Epoch: 2 [32000/50000] Loss: 0.809789 Acc: 0.6875\n",
      "Train Epoch: 2 [33600/50000] Loss: 0.994045 Acc: 0.4375\n",
      "Train Epoch: 2 [35200/50000] Loss: 0.485409 Acc: 0.8125\n",
      "Train Epoch: 2 [36800/50000] Loss: 0.885914 Acc: 0.7500\n",
      "Train Epoch: 2 [38400/50000] Loss: 0.486182 Acc: 0.7500\n",
      "Train Epoch: 2 [40000/50000] Loss: 0.820345 Acc: 0.7500\n",
      "Train Epoch: 2 [41600/50000] Loss: 1.097766 Acc: 0.6250\n",
      "Train Epoch: 2 [43200/50000] Loss: 0.801417 Acc: 0.5625\n",
      "Train Epoch: 2 [44800/50000] Loss: 0.766610 Acc: 0.7500\n",
      "Train Epoch: 2 [46400/50000] Loss: 0.982355 Acc: 0.5625\n",
      "Train Epoch: 2 [48000/50000] Loss: 1.086145 Acc: 0.6875\n",
      "Train Epoch: 2 [49600/50000] Loss: 1.121742 Acc: 0.5625\n",
      "Elapsed 109.64s, 36.55 s/epoch, 0.01 s/batch, ets 511.66s\n",
      "\n",
      "Test set: Average loss: 0.8930, Accuracy: 6847/10000 (68%)\n",
      "\n",
      "Accuracy improved, saving the model.\n",
      "\n",
      "Train Epoch: 3 [1600/50000] Loss: 1.202947 Acc: 0.6250\n",
      "Train Epoch: 3 [3200/50000] Loss: 1.334048 Acc: 0.5625\n",
      "Train Epoch: 3 [4800/50000] Loss: 0.511816 Acc: 0.8750\n",
      "Train Epoch: 3 [6400/50000] Loss: 0.734623 Acc: 0.8125\n",
      "Train Epoch: 3 [8000/50000] Loss: 1.191943 Acc: 0.5000\n",
      "Train Epoch: 3 [9600/50000] Loss: 0.625920 Acc: 0.7500\n",
      "Train Epoch: 3 [11200/50000] Loss: 0.887885 Acc: 0.8125\n",
      "Train Epoch: 3 [12800/50000] Loss: 0.761507 Acc: 0.6875\n",
      "Train Epoch: 3 [14400/50000] Loss: 0.906269 Acc: 0.7500\n",
      "Train Epoch: 3 [16000/50000] Loss: 0.747268 Acc: 0.7500\n",
      "Train Epoch: 3 [17600/50000] Loss: 0.749557 Acc: 0.7500\n",
      "Train Epoch: 3 [19200/50000] Loss: 1.155960 Acc: 0.6250\n",
      "Train Epoch: 3 [20800/50000] Loss: 0.675932 Acc: 0.7500\n",
      "Train Epoch: 3 [22400/50000] Loss: 0.836567 Acc: 0.7500\n",
      "Train Epoch: 3 [24000/50000] Loss: 0.503065 Acc: 0.8125\n",
      "Train Epoch: 3 [25600/50000] Loss: 0.386595 Acc: 0.8125\n",
      "Train Epoch: 3 [27200/50000] Loss: 0.582964 Acc: 0.7500\n",
      "Train Epoch: 3 [28800/50000] Loss: 0.837168 Acc: 0.6875\n",
      "Train Epoch: 3 [30400/50000] Loss: 0.597773 Acc: 0.8125\n",
      "Train Epoch: 3 [32000/50000] Loss: 0.689665 Acc: 0.8125\n",
      "Train Epoch: 3 [33600/50000] Loss: 1.135765 Acc: 0.6250\n",
      "Train Epoch: 3 [35200/50000] Loss: 0.886463 Acc: 0.6875\n",
      "Train Epoch: 3 [36800/50000] Loss: 0.665515 Acc: 0.6875\n",
      "Train Epoch: 3 [38400/50000] Loss: 0.674865 Acc: 0.8125\n",
      "Train Epoch: 3 [40000/50000] Loss: 1.018059 Acc: 0.6250\n",
      "Train Epoch: 3 [41600/50000] Loss: 1.232230 Acc: 0.6250\n",
      "Train Epoch: 3 [43200/50000] Loss: 0.757196 Acc: 0.8750\n",
      "Train Epoch: 3 [44800/50000] Loss: 0.791042 Acc: 0.7500\n",
      "Train Epoch: 3 [46400/50000] Loss: 0.770195 Acc: 0.6875\n",
      "Train Epoch: 3 [48000/50000] Loss: 1.060955 Acc: 0.7500\n",
      "Train Epoch: 3 [49600/50000] Loss: 0.584916 Acc: 0.8125\n",
      "Elapsed 148.11s, 37.03 s/epoch, 0.01 s/batch, ets 481.34s\n",
      "\n",
      "Test set: Average loss: 0.8354, Accuracy: 7097/10000 (71%)\n",
      "\n",
      "Accuracy improved, saving the model.\n",
      "\n",
      "Train Epoch: 4 [1600/50000] Loss: 0.619240 Acc: 0.6875\n",
      "Train Epoch: 4 [3200/50000] Loss: 0.501307 Acc: 0.8750\n",
      "Train Epoch: 4 [4800/50000] Loss: 0.854538 Acc: 0.6875\n",
      "Train Epoch: 4 [6400/50000] Loss: 0.253312 Acc: 0.9375\n",
      "Train Epoch: 4 [8000/50000] Loss: 0.698083 Acc: 0.7500\n",
      "Train Epoch: 4 [9600/50000] Loss: 0.961995 Acc: 0.6250\n",
      "Train Epoch: 4 [11200/50000] Loss: 1.049253 Acc: 0.6250\n",
      "Train Epoch: 4 [12800/50000] Loss: 0.888176 Acc: 0.6875\n",
      "Train Epoch: 4 [14400/50000] Loss: 0.893493 Acc: 0.7500\n",
      "Train Epoch: 4 [16000/50000] Loss: 0.421933 Acc: 0.9375\n",
      "Train Epoch: 4 [17600/50000] Loss: 0.747669 Acc: 0.8125\n",
      "Train Epoch: 4 [19200/50000] Loss: 1.246046 Acc: 0.6250\n"
     ]
    },
    {
     "name": "stdout",
     "output_type": "stream",
     "text": [
      "Train Epoch: 4 [20800/50000] Loss: 0.998794 Acc: 0.6875\n",
      "Train Epoch: 4 [22400/50000] Loss: 0.824389 Acc: 0.6875\n",
      "Train Epoch: 4 [24000/50000] Loss: 0.733730 Acc: 0.6875\n",
      "Train Epoch: 4 [25600/50000] Loss: 0.606380 Acc: 0.8125\n",
      "Train Epoch: 4 [27200/50000] Loss: 0.505164 Acc: 0.8750\n",
      "Train Epoch: 4 [28800/50000] Loss: 0.540718 Acc: 0.6875\n",
      "Train Epoch: 4 [30400/50000] Loss: 0.655167 Acc: 0.7500\n",
      "Train Epoch: 4 [32000/50000] Loss: 0.760375 Acc: 0.7500\n",
      "Train Epoch: 4 [33600/50000] Loss: 0.709271 Acc: 0.8125\n",
      "Train Epoch: 4 [35200/50000] Loss: 1.013752 Acc: 0.5625\n",
      "Train Epoch: 4 [36800/50000] Loss: 0.983064 Acc: 0.5000\n",
      "Train Epoch: 4 [38400/50000] Loss: 0.653739 Acc: 0.7500\n",
      "Train Epoch: 4 [40000/50000] Loss: 0.600236 Acc: 0.8125\n",
      "Train Epoch: 4 [41600/50000] Loss: 1.044475 Acc: 0.7500\n",
      "Train Epoch: 4 [43200/50000] Loss: 0.554435 Acc: 0.7500\n",
      "Train Epoch: 4 [44800/50000] Loss: 0.703535 Acc: 0.7500\n",
      "Train Epoch: 4 [46400/50000] Loss: 0.612533 Acc: 0.8125\n",
      "Train Epoch: 4 [48000/50000] Loss: 1.170135 Acc: 0.5625\n",
      "Train Epoch: 4 [49600/50000] Loss: 0.523643 Acc: 0.8125\n",
      "Elapsed 186.75s, 37.35 s/epoch, 0.01 s/batch, ets 448.20s\n",
      "\n",
      "Test set: Average loss: 0.8014, Accuracy: 7249/10000 (72%)\n",
      "\n",
      "Accuracy improved, saving the model.\n",
      "\n",
      "Train Epoch: 5 [1600/50000] Loss: 1.180633 Acc: 0.5625\n",
      "Train Epoch: 5 [3200/50000] Loss: 0.341928 Acc: 0.8750\n",
      "Train Epoch: 5 [4800/50000] Loss: 0.347731 Acc: 0.9375\n",
      "Train Epoch: 5 [6400/50000] Loss: 0.501441 Acc: 0.7500\n",
      "Train Epoch: 5 [8000/50000] Loss: 0.935854 Acc: 0.6250\n",
      "Train Epoch: 5 [9600/50000] Loss: 1.044984 Acc: 0.6875\n",
      "Train Epoch: 5 [11200/50000] Loss: 0.448869 Acc: 0.7500\n",
      "Train Epoch: 5 [12800/50000] Loss: 0.705218 Acc: 0.6250\n",
      "Train Epoch: 5 [14400/50000] Loss: 0.553373 Acc: 0.8750\n",
      "Train Epoch: 5 [16000/50000] Loss: 0.697656 Acc: 0.6250\n",
      "Train Epoch: 5 [17600/50000] Loss: 0.559486 Acc: 0.8125\n",
      "Train Epoch: 5 [19200/50000] Loss: 0.651231 Acc: 0.7500\n",
      "Train Epoch: 5 [20800/50000] Loss: 0.538506 Acc: 0.7500\n",
      "Train Epoch: 5 [22400/50000] Loss: 0.525494 Acc: 0.8125\n",
      "Train Epoch: 5 [24000/50000] Loss: 0.492969 Acc: 0.8125\n",
      "Train Epoch: 5 [25600/50000] Loss: 0.470457 Acc: 0.9375\n",
      "Train Epoch: 5 [27200/50000] Loss: 0.741145 Acc: 0.6250\n",
      "Train Epoch: 5 [28800/50000] Loss: 1.413424 Acc: 0.5625\n",
      "Train Epoch: 5 [30400/50000] Loss: 0.891641 Acc: 0.6250\n",
      "Train Epoch: 5 [32000/50000] Loss: 0.695181 Acc: 0.7500\n",
      "Train Epoch: 5 [33600/50000] Loss: 0.745933 Acc: 0.7500\n",
      "Train Epoch: 5 [35200/50000] Loss: 0.487312 Acc: 0.8125\n",
      "Train Epoch: 5 [36800/50000] Loss: 0.462121 Acc: 0.8750\n",
      "Train Epoch: 5 [38400/50000] Loss: 0.167457 Acc: 0.9375\n",
      "Train Epoch: 5 [40000/50000] Loss: 1.044155 Acc: 0.6875\n",
      "Train Epoch: 5 [41600/50000] Loss: 0.364667 Acc: 0.8125\n",
      "Train Epoch: 5 [43200/50000] Loss: 0.665314 Acc: 0.7500\n",
      "Train Epoch: 5 [44800/50000] Loss: 0.797411 Acc: 0.7500\n",
      "Train Epoch: 5 [46400/50000] Loss: 1.037740 Acc: 0.5625\n",
      "Train Epoch: 5 [48000/50000] Loss: 0.445216 Acc: 0.9375\n",
      "Train Epoch: 5 [49600/50000] Loss: 0.441707 Acc: 0.7500\n",
      "Elapsed 225.90s, 37.65 s/epoch, 0.01 s/batch, ets 414.15s\n",
      "\n",
      "Test set: Average loss: 0.8604, Accuracy: 7045/10000 (70%)\n",
      "\n",
      "Train Epoch: 6 [1600/50000] Loss: 0.482048 Acc: 0.8750\n",
      "Train Epoch: 6 [3200/50000] Loss: 0.629673 Acc: 0.8125\n",
      "Train Epoch: 6 [4800/50000] Loss: 0.633820 Acc: 0.7500\n",
      "Train Epoch: 6 [6400/50000] Loss: 0.620385 Acc: 0.8125\n",
      "Train Epoch: 6 [8000/50000] Loss: 0.478330 Acc: 0.8125\n",
      "Train Epoch: 6 [9600/50000] Loss: 0.644869 Acc: 0.6875\n",
      "Train Epoch: 6 [11200/50000] Loss: 0.448041 Acc: 0.9375\n",
      "Train Epoch: 6 [12800/50000] Loss: 0.603054 Acc: 0.8125\n",
      "Train Epoch: 6 [14400/50000] Loss: 0.698855 Acc: 0.6250\n",
      "Train Epoch: 6 [16000/50000] Loss: 0.312096 Acc: 0.8750\n",
      "Train Epoch: 6 [17600/50000] Loss: 0.701271 Acc: 0.6875\n",
      "Train Epoch: 6 [19200/50000] Loss: 0.517444 Acc: 0.8750\n",
      "Train Epoch: 6 [20800/50000] Loss: 0.687694 Acc: 0.7500\n",
      "Train Epoch: 6 [22400/50000] Loss: 0.248276 Acc: 0.9375\n",
      "Train Epoch: 6 [24000/50000] Loss: 0.813741 Acc: 0.7500\n",
      "Train Epoch: 6 [25600/50000] Loss: 0.688013 Acc: 0.6875\n",
      "Train Epoch: 6 [27200/50000] Loss: 0.886327 Acc: 0.6250\n",
      "Train Epoch: 6 [28800/50000] Loss: 0.809371 Acc: 0.7500\n",
      "Train Epoch: 6 [30400/50000] Loss: 0.448873 Acc: 0.9375\n",
      "Train Epoch: 6 [32000/50000] Loss: 0.299874 Acc: 0.9375\n",
      "Train Epoch: 6 [33600/50000] Loss: 0.816558 Acc: 0.6875\n",
      "Train Epoch: 6 [35200/50000] Loss: 1.054052 Acc: 0.6250\n",
      "Train Epoch: 6 [36800/50000] Loss: 0.470226 Acc: 0.9375\n",
      "Train Epoch: 6 [38400/50000] Loss: 0.629890 Acc: 0.6875\n",
      "Train Epoch: 6 [40000/50000] Loss: 0.643550 Acc: 0.6875\n",
      "Train Epoch: 6 [41600/50000] Loss: 0.832116 Acc: 0.6250\n",
      "Train Epoch: 6 [43200/50000] Loss: 0.490027 Acc: 0.8750\n",
      "Train Epoch: 6 [44800/50000] Loss: 0.884259 Acc: 0.6250\n",
      "Train Epoch: 6 [46400/50000] Loss: 0.680371 Acc: 0.7500\n",
      "Train Epoch: 6 [48000/50000] Loss: 0.540168 Acc: 0.8750\n",
      "Train Epoch: 6 [49600/50000] Loss: 0.431034 Acc: 0.8125\n",
      "Elapsed 264.27s, 37.75 s/epoch, 0.01 s/batch, ets 377.52s\n",
      "\n",
      "Test set: Average loss: 0.7547, Accuracy: 7430/10000 (74%)\n",
      "\n",
      "Accuracy improved, saving the model.\n",
      "\n",
      "Train Epoch: 7 [1600/50000] Loss: 0.330756 Acc: 0.8125\n",
      "Train Epoch: 7 [3200/50000] Loss: 0.751369 Acc: 0.6875\n",
      "Train Epoch: 7 [4800/50000] Loss: 0.587863 Acc: 0.6875\n",
      "Train Epoch: 7 [6400/50000] Loss: 0.645677 Acc: 0.8750\n",
      "Train Epoch: 7 [8000/50000] Loss: 0.716453 Acc: 0.7500\n",
      "Train Epoch: 7 [9600/50000] Loss: 0.561947 Acc: 0.7500\n",
      "Train Epoch: 7 [11200/50000] Loss: 0.651173 Acc: 0.8750\n",
      "Train Epoch: 7 [12800/50000] Loss: 0.246391 Acc: 1.0000\n",
      "Train Epoch: 7 [14400/50000] Loss: 0.804307 Acc: 0.6875\n",
      "Train Epoch: 7 [16000/50000] Loss: 0.672695 Acc: 0.8125\n",
      "Train Epoch: 7 [17600/50000] Loss: 0.793740 Acc: 0.6875\n",
      "Train Epoch: 7 [19200/50000] Loss: 0.458041 Acc: 0.8750\n",
      "Train Epoch: 7 [20800/50000] Loss: 0.318113 Acc: 0.9375\n",
      "Train Epoch: 7 [22400/50000] Loss: 0.774677 Acc: 0.6875\n",
      "Train Epoch: 7 [24000/50000] Loss: 0.600078 Acc: 0.8125\n",
      "Train Epoch: 7 [25600/50000] Loss: 0.559437 Acc: 0.8125\n",
      "Train Epoch: 7 [27200/50000] Loss: 0.549086 Acc: 0.8125\n",
      "Train Epoch: 7 [28800/50000] Loss: 0.467098 Acc: 0.8125\n",
      "Train Epoch: 7 [30400/50000] Loss: 0.543447 Acc: 0.8750\n",
      "Train Epoch: 7 [32000/50000] Loss: 0.559528 Acc: 0.8125\n",
      "Train Epoch: 7 [33600/50000] Loss: 0.358661 Acc: 0.8125\n",
      "Train Epoch: 7 [35200/50000] Loss: 0.622909 Acc: 0.7500\n",
      "Train Epoch: 7 [36800/50000] Loss: 0.524393 Acc: 0.8125\n",
      "Train Epoch: 7 [38400/50000] Loss: 0.284612 Acc: 0.8750\n",
      "Train Epoch: 7 [40000/50000] Loss: 0.330176 Acc: 0.8750\n",
      "Train Epoch: 7 [41600/50000] Loss: 0.519672 Acc: 0.8125\n",
      "Train Epoch: 7 [43200/50000] Loss: 0.626815 Acc: 0.8750\n",
      "Train Epoch: 7 [44800/50000] Loss: 0.656848 Acc: 0.7500\n",
      "Train Epoch: 7 [46400/50000] Loss: 0.276846 Acc: 0.9375\n",
      "Train Epoch: 7 [48000/50000] Loss: 0.526645 Acc: 0.8750\n",
      "Train Epoch: 7 [49600/50000] Loss: 0.122233 Acc: 1.0000\n",
      "Elapsed 302.00s, 37.75 s/epoch, 0.01 s/batch, ets 339.75s\n",
      "\n",
      "Test set: Average loss: 0.7902, Accuracy: 7340/10000 (73%)\n",
      "\n",
      "Train Epoch: 8 [1600/50000] Loss: 0.560628 Acc: 0.8750\n",
      "Train Epoch: 8 [3200/50000] Loss: 0.169195 Acc: 0.9375\n",
      "Train Epoch: 8 [4800/50000] Loss: 0.402143 Acc: 0.8750\n",
      "Train Epoch: 8 [6400/50000] Loss: 0.644701 Acc: 0.6875\n",
      "Train Epoch: 8 [8000/50000] Loss: 0.451924 Acc: 0.8125\n",
      "Train Epoch: 8 [9600/50000] Loss: 0.450734 Acc: 0.8750\n",
      "Train Epoch: 8 [11200/50000] Loss: 0.258632 Acc: 0.8125\n",
      "Train Epoch: 8 [12800/50000] Loss: 0.487653 Acc: 0.8125\n",
      "Train Epoch: 8 [14400/50000] Loss: 0.805935 Acc: 0.6875\n",
      "Train Epoch: 8 [16000/50000] Loss: 0.561403 Acc: 0.8125\n",
      "Train Epoch: 8 [17600/50000] Loss: 0.236051 Acc: 0.8750\n",
      "Train Epoch: 8 [19200/50000] Loss: 1.046313 Acc: 0.6875\n",
      "Train Epoch: 8 [20800/50000] Loss: 0.325015 Acc: 0.9375\n",
      "Train Epoch: 8 [22400/50000] Loss: 0.685545 Acc: 0.8125\n",
      "Train Epoch: 8 [24000/50000] Loss: 0.679777 Acc: 0.6875\n",
      "Train Epoch: 8 [25600/50000] Loss: 0.259354 Acc: 0.8750\n",
      "Train Epoch: 8 [27200/50000] Loss: 0.302785 Acc: 0.9375\n",
      "Train Epoch: 8 [28800/50000] Loss: 0.499045 Acc: 0.8125\n",
      "Train Epoch: 8 [30400/50000] Loss: 1.202439 Acc: 0.6250\n",
      "Train Epoch: 8 [32000/50000] Loss: 0.469262 Acc: 0.8125\n",
      "Train Epoch: 8 [33600/50000] Loss: 0.179084 Acc: 0.9375\n",
      "Train Epoch: 8 [35200/50000] Loss: 0.202003 Acc: 0.9375\n",
      "Train Epoch: 8 [36800/50000] Loss: 0.655553 Acc: 0.6250\n",
      "Train Epoch: 8 [38400/50000] Loss: 0.616685 Acc: 0.7500\n",
      "Train Epoch: 8 [40000/50000] Loss: 0.501006 Acc: 0.8125\n"
     ]
    },
    {
     "name": "stdout",
     "output_type": "stream",
     "text": [
      "Train Epoch: 8 [41600/50000] Loss: 0.734203 Acc: 0.8750\n",
      "Train Epoch: 8 [43200/50000] Loss: 0.493016 Acc: 0.8125\n",
      "Train Epoch: 8 [44800/50000] Loss: 0.299640 Acc: 0.9375\n",
      "Train Epoch: 8 [46400/50000] Loss: 0.242370 Acc: 0.9375\n",
      "Train Epoch: 8 [48000/50000] Loss: 0.415370 Acc: 0.8125\n",
      "Train Epoch: 8 [49600/50000] Loss: 0.185939 Acc: 1.0000\n",
      "Elapsed 339.64s, 37.74 s/epoch, 0.01 s/batch, ets 301.90s\n",
      "\n",
      "Test set: Average loss: 0.7628, Accuracy: 7459/10000 (75%)\n",
      "\n",
      "Accuracy improved, saving the model.\n",
      "\n",
      "Train Epoch: 9 [1600/50000] Loss: 0.349580 Acc: 0.9375\n",
      "Train Epoch: 9 [3200/50000] Loss: 0.764861 Acc: 0.6250\n",
      "Train Epoch: 9 [4800/50000] Loss: 0.436588 Acc: 0.7500\n",
      "Train Epoch: 9 [6400/50000] Loss: 0.317301 Acc: 0.9375\n",
      "Train Epoch: 9 [8000/50000] Loss: 0.514839 Acc: 0.7500\n",
      "Train Epoch: 9 [9600/50000] Loss: 0.398442 Acc: 0.8125\n",
      "Train Epoch: 9 [11200/50000] Loss: 0.466400 Acc: 0.8125\n",
      "Train Epoch: 9 [12800/50000] Loss: 0.514146 Acc: 0.7500\n",
      "Train Epoch: 9 [14400/50000] Loss: 0.429706 Acc: 0.8125\n",
      "Train Epoch: 9 [16000/50000] Loss: 0.525186 Acc: 0.8125\n",
      "Train Epoch: 9 [17600/50000] Loss: 0.309400 Acc: 0.8750\n",
      "Train Epoch: 9 [19200/50000] Loss: 0.170350 Acc: 0.9375\n",
      "Train Epoch: 9 [20800/50000] Loss: 0.404333 Acc: 0.8125\n",
      "Train Epoch: 9 [22400/50000] Loss: 0.473172 Acc: 0.8125\n",
      "Train Epoch: 9 [24000/50000] Loss: 0.289903 Acc: 0.8750\n",
      "Train Epoch: 9 [25600/50000] Loss: 0.275112 Acc: 0.8750\n",
      "Train Epoch: 9 [27200/50000] Loss: 0.504112 Acc: 0.8125\n",
      "Train Epoch: 9 [28800/50000] Loss: 0.183996 Acc: 0.9375\n",
      "Train Epoch: 9 [30400/50000] Loss: 0.472674 Acc: 0.7500\n",
      "Train Epoch: 9 [32000/50000] Loss: 0.541674 Acc: 0.6875\n",
      "Train Epoch: 9 [33600/50000] Loss: 0.613138 Acc: 0.6875\n",
      "Train Epoch: 9 [35200/50000] Loss: 0.440490 Acc: 0.8750\n",
      "Train Epoch: 9 [36800/50000] Loss: 0.427910 Acc: 0.8750\n",
      "Train Epoch: 9 [38400/50000] Loss: 0.536232 Acc: 0.7500\n",
      "Train Epoch: 9 [40000/50000] Loss: 0.362662 Acc: 0.8750\n",
      "Train Epoch: 9 [41600/50000] Loss: 0.618559 Acc: 0.7500\n",
      "Train Epoch: 9 [43200/50000] Loss: 0.330145 Acc: 0.8750\n",
      "Train Epoch: 9 [44800/50000] Loss: 0.619379 Acc: 0.8750\n",
      "Train Epoch: 9 [46400/50000] Loss: 0.177081 Acc: 0.9375\n",
      "Train Epoch: 9 [48000/50000] Loss: 0.365653 Acc: 0.8750\n",
      "Train Epoch: 9 [49600/50000] Loss: 0.457007 Acc: 0.8750\n",
      "Elapsed 378.01s, 37.80 s/epoch, 0.01 s/batch, ets 264.60s\n",
      "\n",
      "Test set: Average loss: 0.7857, Accuracy: 7454/10000 (75%)\n",
      "\n",
      "Train Epoch: 10 [1600/50000] Loss: 0.224986 Acc: 0.9375\n",
      "Train Epoch: 10 [3200/50000] Loss: 0.410931 Acc: 0.8125\n",
      "Train Epoch: 10 [4800/50000] Loss: 0.374488 Acc: 0.8750\n",
      "Train Epoch: 10 [6400/50000] Loss: 0.311773 Acc: 0.8750\n",
      "Train Epoch: 10 [8000/50000] Loss: 0.298331 Acc: 0.9375\n",
      "Train Epoch: 10 [9600/50000] Loss: 0.156721 Acc: 0.9375\n",
      "Train Epoch: 10 [11200/50000] Loss: 0.243415 Acc: 0.8750\n",
      "Train Epoch: 10 [12800/50000] Loss: 0.364537 Acc: 0.8750\n",
      "Train Epoch: 10 [14400/50000] Loss: 0.101409 Acc: 1.0000\n",
      "Train Epoch: 10 [16000/50000] Loss: 0.180204 Acc: 0.9375\n",
      "Train Epoch: 10 [17600/50000] Loss: 0.269189 Acc: 0.8125\n",
      "Train Epoch: 10 [19200/50000] Loss: 0.576847 Acc: 0.6875\n",
      "Train Epoch: 10 [20800/50000] Loss: 0.326165 Acc: 0.8750\n",
      "Train Epoch: 10 [22400/50000] Loss: 0.439206 Acc: 0.8750\n",
      "Train Epoch: 10 [24000/50000] Loss: 0.259615 Acc: 0.9375\n",
      "Train Epoch: 10 [25600/50000] Loss: 0.260806 Acc: 0.8750\n",
      "Train Epoch: 10 [27200/50000] Loss: 0.396524 Acc: 0.7500\n",
      "Train Epoch: 10 [28800/50000] Loss: 0.153327 Acc: 1.0000\n",
      "Train Epoch: 10 [30400/50000] Loss: 0.861402 Acc: 0.8125\n",
      "Train Epoch: 10 [32000/50000] Loss: 0.402990 Acc: 0.9375\n",
      "Train Epoch: 10 [33600/50000] Loss: 0.351687 Acc: 0.8125\n",
      "Train Epoch: 10 [35200/50000] Loss: 0.342180 Acc: 0.8125\n",
      "Train Epoch: 10 [36800/50000] Loss: 0.378629 Acc: 0.8125\n",
      "Train Epoch: 10 [38400/50000] Loss: 0.579254 Acc: 0.8125\n",
      "Train Epoch: 10 [40000/50000] Loss: 0.453576 Acc: 0.8125\n",
      "Train Epoch: 10 [41600/50000] Loss: 0.124129 Acc: 1.0000\n",
      "Train Epoch: 10 [43200/50000] Loss: 0.402406 Acc: 0.8125\n",
      "Train Epoch: 10 [44800/50000] Loss: 0.365852 Acc: 0.8750\n",
      "Train Epoch: 10 [46400/50000] Loss: 0.447399 Acc: 0.8750\n",
      "Train Epoch: 10 [48000/50000] Loss: 0.490565 Acc: 0.8125\n",
      "Train Epoch: 10 [49600/50000] Loss: 0.107421 Acc: 1.0000\n",
      "Elapsed 415.26s, 37.75 s/epoch, 0.01 s/batch, ets 226.50s\n",
      "\n",
      "Test set: Average loss: 0.8260, Accuracy: 7392/10000 (74%)\n",
      "\n",
      "Train Epoch: 11 [1600/50000] Loss: 0.699619 Acc: 0.7500\n",
      "Train Epoch: 11 [3200/50000] Loss: 0.176593 Acc: 1.0000\n",
      "Train Epoch: 11 [4800/50000] Loss: 0.241466 Acc: 0.8750\n",
      "Train Epoch: 11 [6400/50000] Loss: 0.371002 Acc: 0.8125\n",
      "Train Epoch: 11 [8000/50000] Loss: 0.263598 Acc: 0.9375\n",
      "Train Epoch: 11 [9600/50000] Loss: 0.336606 Acc: 0.8750\n",
      "Train Epoch: 11 [11200/50000] Loss: 0.515818 Acc: 0.8750\n",
      "Train Epoch: 11 [12800/50000] Loss: 0.054057 Acc: 1.0000\n",
      "Train Epoch: 11 [14400/50000] Loss: 0.374626 Acc: 0.8750\n",
      "Train Epoch: 11 [16000/50000] Loss: 0.294932 Acc: 0.8750\n",
      "Train Epoch: 11 [17600/50000] Loss: 0.272254 Acc: 0.9375\n",
      "Train Epoch: 11 [19200/50000] Loss: 0.238564 Acc: 0.8750\n",
      "Train Epoch: 11 [20800/50000] Loss: 0.184342 Acc: 0.9375\n",
      "Train Epoch: 11 [22400/50000] Loss: 0.457819 Acc: 0.8125\n",
      "Train Epoch: 11 [24000/50000] Loss: 0.734659 Acc: 0.7500\n",
      "Train Epoch: 11 [25600/50000] Loss: 0.103093 Acc: 1.0000\n",
      "Train Epoch: 11 [27200/50000] Loss: 0.051728 Acc: 1.0000\n",
      "Train Epoch: 11 [28800/50000] Loss: 0.234873 Acc: 0.9375\n",
      "Train Epoch: 11 [30400/50000] Loss: 0.174667 Acc: 0.9375\n",
      "Train Epoch: 11 [32000/50000] Loss: 0.235912 Acc: 0.8750\n",
      "Train Epoch: 11 [33600/50000] Loss: 0.620981 Acc: 0.7500\n",
      "Train Epoch: 11 [35200/50000] Loss: 0.539334 Acc: 0.8125\n",
      "Train Epoch: 11 [36800/50000] Loss: 0.495005 Acc: 0.8125\n",
      "Train Epoch: 11 [38400/50000] Loss: 0.228263 Acc: 0.8750\n",
      "Train Epoch: 11 [40000/50000] Loss: 0.218388 Acc: 0.9375\n",
      "Train Epoch: 11 [41600/50000] Loss: 0.266614 Acc: 0.8750\n",
      "Train Epoch: 11 [43200/50000] Loss: 0.350187 Acc: 0.8125\n",
      "Train Epoch: 11 [44800/50000] Loss: 0.401698 Acc: 0.8125\n",
      "Train Epoch: 11 [46400/50000] Loss: 0.136593 Acc: 0.9375\n",
      "Train Epoch: 11 [48000/50000] Loss: 0.085597 Acc: 1.0000\n",
      "Train Epoch: 11 [49600/50000] Loss: 0.314156 Acc: 0.9375\n",
      "Elapsed 453.49s, 37.79 s/epoch, 0.01 s/batch, ets 188.95s\n",
      "\n",
      "Test set: Average loss: 0.8522, Accuracy: 7332/10000 (73%)\n",
      "\n",
      "Train Epoch: 12 [1600/50000] Loss: 0.210610 Acc: 0.9375\n",
      "Train Epoch: 12 [3200/50000] Loss: 0.390441 Acc: 0.8750\n",
      "Train Epoch: 12 [4800/50000] Loss: 0.209848 Acc: 0.9375\n",
      "Train Epoch: 12 [6400/50000] Loss: 0.287599 Acc: 0.9375\n",
      "Train Epoch: 12 [8000/50000] Loss: 0.034561 Acc: 1.0000\n",
      "Train Epoch: 12 [9600/50000] Loss: 0.244681 Acc: 0.8750\n",
      "Train Epoch: 12 [11200/50000] Loss: 0.181679 Acc: 0.8750\n",
      "Train Epoch: 12 [12800/50000] Loss: 0.356749 Acc: 0.9375\n",
      "Train Epoch: 12 [14400/50000] Loss: 0.349677 Acc: 0.8125\n",
      "Train Epoch: 12 [16000/50000] Loss: 0.284917 Acc: 0.9375\n",
      "Train Epoch: 12 [17600/50000] Loss: 0.181626 Acc: 0.9375\n",
      "Train Epoch: 12 [19200/50000] Loss: 0.038370 Acc: 1.0000\n",
      "Train Epoch: 12 [20800/50000] Loss: 0.433781 Acc: 0.8750\n",
      "Train Epoch: 12 [22400/50000] Loss: 0.035154 Acc: 1.0000\n",
      "Train Epoch: 12 [24000/50000] Loss: 0.224356 Acc: 1.0000\n",
      "Train Epoch: 12 [25600/50000] Loss: 0.367579 Acc: 0.8750\n",
      "Train Epoch: 12 [27200/50000] Loss: 0.554090 Acc: 0.7500\n",
      "Train Epoch: 12 [28800/50000] Loss: 0.272875 Acc: 0.8750\n",
      "Train Epoch: 12 [30400/50000] Loss: 0.466453 Acc: 0.8125\n",
      "Train Epoch: 12 [32000/50000] Loss: 0.423119 Acc: 0.8125\n",
      "Train Epoch: 12 [33600/50000] Loss: 0.239096 Acc: 0.9375\n",
      "Train Epoch: 12 [35200/50000] Loss: 0.782968 Acc: 0.6875\n",
      "Train Epoch: 12 [36800/50000] Loss: 0.185373 Acc: 0.8750\n",
      "Train Epoch: 12 [38400/50000] Loss: 0.549724 Acc: 0.7500\n",
      "Train Epoch: 12 [40000/50000] Loss: 0.315501 Acc: 0.9375\n",
      "Train Epoch: 12 [41600/50000] Loss: 0.345305 Acc: 0.8750\n",
      "Train Epoch: 12 [43200/50000] Loss: 0.312410 Acc: 0.8750\n",
      "Train Epoch: 12 [44800/50000] Loss: 0.056761 Acc: 1.0000\n",
      "Train Epoch: 12 [46400/50000] Loss: 0.933939 Acc: 0.8125\n",
      "Train Epoch: 12 [48000/50000] Loss: 0.360993 Acc: 0.9375\n",
      "Train Epoch: 12 [49600/50000] Loss: 0.514244 Acc: 0.7500\n",
      "Elapsed 490.91s, 37.76 s/epoch, 0.01 s/batch, ets 151.05s\n",
      "\n",
      "Test set: Average loss: 0.8340, Accuracy: 7442/10000 (74%)\n",
      "\n",
      "Train Epoch: 13 [1600/50000] Loss: 0.153368 Acc: 0.9375\n",
      "Train Epoch: 13 [3200/50000] Loss: 0.389947 Acc: 0.8750\n",
      "Train Epoch: 13 [4800/50000] Loss: 0.102865 Acc: 1.0000\n",
      "Train Epoch: 13 [6400/50000] Loss: 0.137241 Acc: 0.9375\n"
     ]
    },
    {
     "name": "stdout",
     "output_type": "stream",
     "text": [
      "Train Epoch: 13 [8000/50000] Loss: 0.193758 Acc: 0.9375\n",
      "Train Epoch: 13 [9600/50000] Loss: 0.751109 Acc: 0.8125\n",
      "Train Epoch: 13 [11200/50000] Loss: 0.077432 Acc: 1.0000\n",
      "Train Epoch: 13 [12800/50000] Loss: 0.233971 Acc: 0.9375\n",
      "Train Epoch: 13 [14400/50000] Loss: 0.097419 Acc: 0.9375\n",
      "Train Epoch: 13 [16000/50000] Loss: 0.190263 Acc: 0.9375\n",
      "Train Epoch: 13 [17600/50000] Loss: 0.121257 Acc: 1.0000\n",
      "Train Epoch: 13 [19200/50000] Loss: 0.119402 Acc: 0.9375\n",
      "Train Epoch: 13 [20800/50000] Loss: 0.033561 Acc: 1.0000\n",
      "Train Epoch: 13 [22400/50000] Loss: 0.229530 Acc: 0.8750\n",
      "Train Epoch: 13 [24000/50000] Loss: 0.342520 Acc: 0.8750\n",
      "Train Epoch: 13 [25600/50000] Loss: 0.452271 Acc: 0.6875\n",
      "Train Epoch: 13 [27200/50000] Loss: 0.200646 Acc: 0.9375\n",
      "Train Epoch: 13 [28800/50000] Loss: 0.092975 Acc: 0.9375\n",
      "Train Epoch: 13 [30400/50000] Loss: 0.149832 Acc: 0.9375\n",
      "Train Epoch: 13 [32000/50000] Loss: 0.284507 Acc: 0.8750\n",
      "Train Epoch: 13 [33600/50000] Loss: 0.297565 Acc: 0.8750\n",
      "Train Epoch: 13 [35200/50000] Loss: 0.200446 Acc: 0.9375\n",
      "Train Epoch: 13 [36800/50000] Loss: 0.083084 Acc: 1.0000\n",
      "Train Epoch: 13 [38400/50000] Loss: 0.258264 Acc: 0.8750\n",
      "Train Epoch: 13 [40000/50000] Loss: 0.081558 Acc: 1.0000\n",
      "Train Epoch: 13 [41600/50000] Loss: 0.284634 Acc: 0.8750\n",
      "Train Epoch: 13 [43200/50000] Loss: 0.269236 Acc: 0.8750\n",
      "Train Epoch: 13 [44800/50000] Loss: 0.472306 Acc: 0.8750\n",
      "Train Epoch: 13 [46400/50000] Loss: 0.496704 Acc: 0.7500\n",
      "Train Epoch: 13 [48000/50000] Loss: 0.106377 Acc: 0.9375\n",
      "Train Epoch: 13 [49600/50000] Loss: 0.159880 Acc: 0.9375\n",
      "Elapsed 529.29s, 37.81 s/epoch, 0.01 s/batch, ets 113.42s\n",
      "\n",
      "Test set: Average loss: 0.8708, Accuracy: 7515/10000 (75%)\n",
      "\n",
      "Accuracy improved, saving the model.\n",
      "\n",
      "Train Epoch: 14 [1600/50000] Loss: 0.180094 Acc: 0.9375\n",
      "Train Epoch: 14 [3200/50000] Loss: 0.265573 Acc: 0.8125\n",
      "Train Epoch: 14 [4800/50000] Loss: 0.113561 Acc: 1.0000\n",
      "Train Epoch: 14 [6400/50000] Loss: 0.423645 Acc: 0.8125\n",
      "Train Epoch: 14 [8000/50000] Loss: 0.244384 Acc: 0.9375\n",
      "Train Epoch: 14 [9600/50000] Loss: 0.064454 Acc: 1.0000\n",
      "Train Epoch: 14 [11200/50000] Loss: 0.053247 Acc: 1.0000\n",
      "Train Epoch: 14 [12800/50000] Loss: 0.147103 Acc: 0.9375\n",
      "Train Epoch: 14 [14400/50000] Loss: 0.492557 Acc: 0.8125\n",
      "Train Epoch: 14 [16000/50000] Loss: 0.104975 Acc: 1.0000\n",
      "Train Epoch: 14 [17600/50000] Loss: 0.241991 Acc: 0.9375\n",
      "Train Epoch: 14 [19200/50000] Loss: 0.111397 Acc: 1.0000\n",
      "Train Epoch: 14 [20800/50000] Loss: 0.048463 Acc: 1.0000\n",
      "Train Epoch: 14 [22400/50000] Loss: 0.093464 Acc: 1.0000\n",
      "Train Epoch: 14 [24000/50000] Loss: 0.170515 Acc: 0.9375\n",
      "Train Epoch: 14 [25600/50000] Loss: 0.371538 Acc: 0.8125\n",
      "Train Epoch: 14 [27200/50000] Loss: 0.213282 Acc: 0.9375\n",
      "Train Epoch: 14 [28800/50000] Loss: 0.286273 Acc: 0.8750\n",
      "Train Epoch: 14 [30400/50000] Loss: 0.030437 Acc: 1.0000\n",
      "Train Epoch: 14 [32000/50000] Loss: 0.145587 Acc: 0.9375\n",
      "Train Epoch: 14 [33600/50000] Loss: 0.346246 Acc: 0.8750\n",
      "Train Epoch: 14 [35200/50000] Loss: 0.158793 Acc: 0.9375\n",
      "Train Epoch: 14 [36800/50000] Loss: 0.199765 Acc: 0.9375\n",
      "Train Epoch: 14 [38400/50000] Loss: 0.346491 Acc: 0.8750\n",
      "Train Epoch: 14 [40000/50000] Loss: 0.059272 Acc: 1.0000\n",
      "Train Epoch: 14 [41600/50000] Loss: 0.247883 Acc: 0.9375\n",
      "Train Epoch: 14 [43200/50000] Loss: 0.374801 Acc: 0.8750\n",
      "Train Epoch: 14 [44800/50000] Loss: 0.183169 Acc: 0.9375\n",
      "Train Epoch: 14 [46400/50000] Loss: 0.517275 Acc: 0.8750\n",
      "Train Epoch: 14 [48000/50000] Loss: 0.118069 Acc: 0.9375\n",
      "Train Epoch: 14 [49600/50000] Loss: 0.318122 Acc: 0.9375\n",
      "Elapsed 567.21s, 37.81 s/epoch, 0.01 s/batch, ets 75.63s\n",
      "\n",
      "Test set: Average loss: 0.9269, Accuracy: 7422/10000 (74%)\n",
      "\n",
      "Train Epoch: 15 [1600/50000] Loss: 0.222776 Acc: 0.8750\n",
      "Train Epoch: 15 [3200/50000] Loss: 0.292096 Acc: 0.8750\n",
      "Train Epoch: 15 [4800/50000] Loss: 0.114931 Acc: 0.9375\n",
      "Train Epoch: 15 [6400/50000] Loss: 0.050160 Acc: 1.0000\n",
      "Train Epoch: 15 [8000/50000] Loss: 0.265220 Acc: 0.8750\n",
      "Train Epoch: 15 [9600/50000] Loss: 0.208427 Acc: 0.9375\n",
      "Train Epoch: 15 [11200/50000] Loss: 0.280729 Acc: 0.8750\n",
      "Train Epoch: 15 [12800/50000] Loss: 0.077596 Acc: 1.0000\n",
      "Train Epoch: 15 [14400/50000] Loss: 0.195829 Acc: 0.9375\n",
      "Train Epoch: 15 [16000/50000] Loss: 0.414275 Acc: 0.8125\n",
      "Train Epoch: 15 [17600/50000] Loss: 0.140270 Acc: 0.9375\n",
      "Train Epoch: 15 [19200/50000] Loss: 0.087270 Acc: 1.0000\n",
      "Train Epoch: 15 [20800/50000] Loss: 0.099807 Acc: 1.0000\n",
      "Train Epoch: 15 [22400/50000] Loss: 0.141773 Acc: 0.9375\n",
      "Train Epoch: 15 [24000/50000] Loss: 0.060823 Acc: 1.0000\n",
      "Train Epoch: 15 [25600/50000] Loss: 0.146307 Acc: 0.8750\n",
      "Train Epoch: 15 [27200/50000] Loss: 0.099827 Acc: 1.0000\n",
      "Train Epoch: 15 [28800/50000] Loss: 0.034659 Acc: 1.0000\n",
      "Train Epoch: 15 [30400/50000] Loss: 0.124937 Acc: 1.0000\n",
      "Train Epoch: 15 [32000/50000] Loss: 0.494844 Acc: 0.9375\n",
      "Train Epoch: 15 [33600/50000] Loss: 0.538214 Acc: 0.8125\n",
      "Train Epoch: 15 [35200/50000] Loss: 0.148136 Acc: 0.9375\n",
      "Train Epoch: 15 [36800/50000] Loss: 0.172016 Acc: 0.9375\n",
      "Train Epoch: 15 [38400/50000] Loss: 0.398010 Acc: 0.8125\n",
      "Train Epoch: 15 [40000/50000] Loss: 0.226355 Acc: 0.8750\n",
      "Train Epoch: 15 [41600/50000] Loss: 0.309696 Acc: 0.8125\n",
      "Train Epoch: 15 [43200/50000] Loss: 0.298641 Acc: 0.9375\n",
      "Train Epoch: 15 [44800/50000] Loss: 0.440311 Acc: 0.8750\n",
      "Train Epoch: 15 [46400/50000] Loss: 0.076107 Acc: 1.0000\n",
      "Train Epoch: 15 [48000/50000] Loss: 0.136069 Acc: 0.9375\n",
      "Train Epoch: 15 [49600/50000] Loss: 0.013939 Acc: 1.0000\n",
      "Elapsed 605.31s, 37.83 s/epoch, 0.01 s/batch, ets 37.83s\n",
      "\n",
      "Test set: Average loss: 0.9572, Accuracy: 7434/10000 (74%)\n",
      "\n",
      "Train Epoch: 16 [1600/50000] Loss: 0.073133 Acc: 1.0000\n",
      "Train Epoch: 16 [3200/50000] Loss: 0.396886 Acc: 0.8750\n",
      "Train Epoch: 16 [4800/50000] Loss: 0.220862 Acc: 0.9375\n",
      "Train Epoch: 16 [6400/50000] Loss: 0.072067 Acc: 1.0000\n",
      "Train Epoch: 16 [8000/50000] Loss: 0.072647 Acc: 1.0000\n",
      "Train Epoch: 16 [9600/50000] Loss: 0.084396 Acc: 1.0000\n",
      "Train Epoch: 16 [11200/50000] Loss: 0.230357 Acc: 0.9375\n",
      "Train Epoch: 16 [12800/50000] Loss: 0.173410 Acc: 0.9375\n",
      "Train Epoch: 16 [14400/50000] Loss: 0.078794 Acc: 1.0000\n",
      "Train Epoch: 16 [16000/50000] Loss: 0.145104 Acc: 0.9375\n",
      "Train Epoch: 16 [17600/50000] Loss: 0.493408 Acc: 0.9375\n",
      "Train Epoch: 16 [19200/50000] Loss: 0.066201 Acc: 1.0000\n",
      "Train Epoch: 16 [20800/50000] Loss: 0.049134 Acc: 1.0000\n",
      "Train Epoch: 16 [22400/50000] Loss: 0.034050 Acc: 1.0000\n",
      "Train Epoch: 16 [24000/50000] Loss: 0.080041 Acc: 0.9375\n",
      "Train Epoch: 16 [25600/50000] Loss: 0.042336 Acc: 1.0000\n",
      "Train Epoch: 16 [27200/50000] Loss: 0.078740 Acc: 0.9375\n",
      "Train Epoch: 16 [28800/50000] Loss: 0.067036 Acc: 1.0000\n",
      "Train Epoch: 16 [30400/50000] Loss: 0.311042 Acc: 0.9375\n",
      "Train Epoch: 16 [32000/50000] Loss: 0.680326 Acc: 0.8750\n",
      "Train Epoch: 16 [33600/50000] Loss: 0.163246 Acc: 0.9375\n",
      "Train Epoch: 16 [35200/50000] Loss: 0.166968 Acc: 0.9375\n",
      "Train Epoch: 16 [36800/50000] Loss: 0.152502 Acc: 0.8750\n",
      "Train Epoch: 16 [38400/50000] Loss: 0.075776 Acc: 1.0000\n",
      "Train Epoch: 16 [40000/50000] Loss: 0.159179 Acc: 1.0000\n",
      "Train Epoch: 16 [41600/50000] Loss: 0.093388 Acc: 1.0000\n",
      "Train Epoch: 16 [43200/50000] Loss: 0.042975 Acc: 1.0000\n",
      "Train Epoch: 16 [44800/50000] Loss: 0.558096 Acc: 0.6875\n",
      "Train Epoch: 16 [46400/50000] Loss: 0.225381 Acc: 0.9375\n",
      "Train Epoch: 16 [48000/50000] Loss: 0.112419 Acc: 1.0000\n",
      "Train Epoch: 16 [49600/50000] Loss: 0.269113 Acc: 0.8750\n",
      "Elapsed 642.60s, 37.80 s/epoch, 0.01 s/batch, ets 0.00s\n",
      "\n",
      "Test set: Average loss: 0.9662, Accuracy: 7474/10000 (75%)\n",
      "\n",
      "Total time: 645.72, Best Loss: 0.755, Best Accuracy: 0.752\n"
     ]
    }
   ],
   "source": [
    "if required_training:\n",
    "    model, epoch_train_loss, epoch_train_acc, epoch_test_loss, epoch_test_acc = main()"
   ]
  },
  {
   "cell_type": "markdown",
   "metadata": {
    "deletable": false,
    "editable": false,
    "nbgrader": {
     "grade": false,
     "locked": true,
     "solution": false
    }
   },
   "source": [
    "# <font style=\"color:blue\">12. Plot Loss</font>"
   ]
  },
  {
   "cell_type": "code",
   "execution_count": 130,
   "metadata": {
    "deletable": false,
    "editable": false,
    "lines_to_next_cell": 2,
    "nbgrader": {
     "grade": false,
     "locked": true,
     "solution": false
    }
   },
   "outputs": [
    {
     "data": {
      "image/png": "[encoded data removed]",
      "text/plain": [
       "<Figure size 720x432 with 1 Axes>"
      ]
     },
     "metadata": {
      "needs_background": "light"
     },
     "output_type": "display_data"
    }
   ],
   "source": [
    "# Plot loss\n",
    "plt.rcParams[\"figure.figsize\"] = (10, 6)\n",
    "x = range(len(epoch_train_loss))\n",
    "\n",
    "\n",
    "plt.figure\n",
    "plt.plot(x, epoch_train_loss, color='r', label=\"train loss\")\n",
    "plt.plot(x, epoch_test_loss, color='b', label=\"validation loss\")\n",
    "plt.xlabel('epoch no.')\n",
    "plt.ylabel('loss')\n",
    "plt.legend(loc='upper right')\n",
    "plt.title('Training and Validation Loss')\n",
    "plt.show()"
   ]
  },
  {
   "cell_type": "markdown",
   "metadata": {
    "deletable": false,
    "editable": false,
    "nbgrader": {
     "grade": false,
     "locked": true,
     "solution": false
    }
   },
   "source": [
    "# <font style=\"color:blue\">13. Plot Accuracy</font>"
   ]
  },
  {
   "cell_type": "code",
   "execution_count": 131,
   "metadata": {
    "deletable": false,
    "editable": false,
    "nbgrader": {
     "grade": false,
     "locked": true,
     "solution": false
    }
   },
   "outputs": [
    {
     "data": {
      "image/png": "[encoded data removed]",
      "text/plain": [
       "<Figure size 720x432 with 1 Axes>"
      ]
     },
     "metadata": {
      "needs_background": "light"
     },
     "output_type": "display_data"
    }
   ],
   "source": [
    "# Plot loss\n",
    "plt.rcParams[\"figure.figsize\"] = (10, 6)\n",
    "x = range(len(epoch_train_loss))\n",
    "\n",
    "\n",
    "plt.figure\n",
    "plt.plot(x, epoch_train_acc, color='r', label=\"train accuracy\")\n",
    "plt.plot(x, epoch_test_acc, color='b', label=\"validation accuracy\")\n",
    "plt.xlabel('epoch no.')\n",
    "plt.ylabel('accuracy')\n",
    "plt.legend(loc='center right')\n",
    "plt.title('Training and Validation Accuracy')\n",
    "plt.show()"
   ]
  },
  {
   "cell_type": "markdown",
   "metadata": {
    "deletable": false,
    "editable": false,
    "nbgrader": {
     "grade": false,
     "locked": true,
     "solution": false
    }
   },
   "source": [
    "# <font style=\"color:blue\">14. Loading the Model </font>\n"
   ]
  },
  {
   "cell_type": "code",
   "execution_count": 101,
   "metadata": {
    "deletable": false,
    "editable": false,
    "nbgrader": {
     "grade": false,
     "locked": true,
     "solution": false
    }
   },
   "outputs": [
    {
     "data": {
      "text/plain": [
       "<All keys matched successfully>"
      ]
     },
     "execution_count": 101,
     "metadata": {},
     "output_type": "execute_result"
    }
   ],
   "source": [
    "# initialize the model\n",
    "cnn_model = MyModel()\n",
    "\n",
    "models = 'models'\n",
    "\n",
    "model_file_name = 'cifar10_cnn_model.pt'\n",
    "\n",
    "model_path = os.path.join(models, model_file_name)\n",
    "\n",
    "# loading the model and getting model parameters by using load_state_dict\n",
    "cnn_model.load_state_dict(torch.load(model_path))"
   ]
  },
  {
   "cell_type": "markdown",
   "metadata": {
    "deletable": false,
    "editable": false,
    "nbgrader": {
     "grade": false,
     "locked": true,
     "solution": false
    }
   },
   "source": [
    "# <font style=\"color:blue\">15. Model Prediction</font>\n"
   ]
  },
  {
   "cell_type": "code",
   "execution_count": 102,
   "metadata": {
    "collapsed": true,
    "deletable": false,
    "editable": false,
    "nbgrader": {
     "grade": false,
     "locked": true,
     "solution": false
    }
   },
   "outputs": [],
   "source": [
    "def prediction(model, train_config, batch_input):\n",
    "    \n",
    "    # send model to cpu/cuda according to your system configuration\n",
    "    model.to(train_config.device)\n",
    "    \n",
    "    # it is important to do model.eval() before prediction\n",
    "    model.eval()\n",
    "\n",
    "    data = batch_input.to(train_config.device)\n",
    "\n",
    "    output = model(data)\n",
    "\n",
    "    # Score to probability using softmax\n",
    "    prob = F.softmax(output, dim=1)\n",
    "\n",
    "    # get the max probability\n",
    "    pred_prob = prob.data.max(dim=1)[0]\n",
    "    \n",
    "    # get the index of the max probability\n",
    "    pred_index = prob.data.max(dim=1)[1]\n",
    "    \n",
    "    return pred_index.cpu().numpy(), pred_prob.cpu().numpy()"
   ]
  },
  {
   "cell_type": "markdown",
   "metadata": {
    "deletable": false,
    "editable": false,
    "nbgrader": {
     "grade": false,
     "locked": true,
     "solution": false
    }
   },
   "source": [
    "# <font style=\"color:blue\">16. Perform Inference on sample images </font>\n",
    "\n",
    "For prediction, we need to transform the data in the same way as we have done during training. "
   ]
  },
  {
   "cell_type": "code",
   "execution_count": 103,
   "metadata": {
    "deletable": false,
    "editable": false,
    "lines_to_next_cell": 2,
    "nbgrader": {
     "grade": false,
     "locked": true,
     "solution": false
    }
   },
   "outputs": [
    {
     "data": {
      "image/png": "[encoded data removed]",
      "text/plain": [
       "<Figure size 216x216 with 1 Axes>"
      ]
     },
     "metadata": {
      "needs_background": "light"
     },
     "output_type": "display_data"
    },
    {
     "data": {
      "image/png": "[encoded data removed]",
      "text/plain": [
       "<Figure size 216x216 with 1 Axes>"
      ]
     },
     "metadata": {
      "needs_background": "light"
     },
     "output_type": "display_data"
    },
    {
     "data": {
      "image/png": "[encoded data removed]",
      "text/plain": [
       "<Figure size 216x216 with 1 Axes>"
      ]
     },
     "metadata": {
      "needs_background": "light"
     },
     "output_type": "display_data"
    },
    {
     "data": {
      "image/png": "[encoded data removed]",
      "text/plain": [
       "<Figure size 216x216 with 1 Axes>"
      ]
     },
     "metadata": {
      "needs_background": "light"
     },
     "output_type": "display_data"
    },
    {
     "data": {
      "image/png": "[encoded data removed]",
      "text/plain": [
       "<Figure size 216x216 with 1 Axes>"
      ]
     },
     "metadata": {
      "needs_background": "light"
     },
     "output_type": "display_data"
    }
   ],
   "source": [
    "classes = ('plane', 'car', 'bird', 'cat', 'deer', 'dog', 'frog', 'horse', 'ship', 'truck')\n",
    "\n",
    "batch_size = 5\n",
    "train_config = TrainingConfiguration()\n",
    "\n",
    "if torch.cuda.is_available():\n",
    "    train_config.device = \"cuda\"\n",
    "else:\n",
    "    train_config.device = \"cpu\"\n",
    "    \n",
    "    \n",
    "\n",
    "# load test data without image transformation\n",
    "test = torch.utils.data.DataLoader(\n",
    "    datasets.CIFAR10(root=train_config.data_root, train=False, download=False, \n",
    "                   transform=transforms.functional.to_tensor),\n",
    "    batch_size=batch_size,\n",
    "    shuffle=False,\n",
    "    num_workers=1\n",
    "    )\n",
    "\n",
    "try:\n",
    "    mean, std = get_mean_std_train_data(data_root)\n",
    "    assert len(mean) == len(std) == 3\n",
    "except:\n",
    "    mean = (0.5, 0.5, 0.5)\n",
    "    std = (0.5, 0.5, 0.5)\n",
    "\n",
    "# load testdata with image transformation\n",
    "image_transforms = transforms.Compose([\n",
    "    transforms.ToTensor(),\n",
    "    transforms.Normalize(mean, std)\n",
    "    ])\n",
    "\n",
    "test_trans = torch.utils.data.DataLoader(\n",
    "    datasets.CIFAR10(root=train_config.data_root, train=False, download=False, transform=image_transforms),\n",
    "    batch_size=batch_size,\n",
    "    shuffle=False,\n",
    "    num_workers=1\n",
    "    )\n",
    "\n",
    "for data, _ in test_trans:\n",
    "    # pass the loaded model\n",
    "    pred, prob = prediction(cnn_model, train_config, data)\n",
    "    break\n",
    "    \n",
    "\n",
    "plt.rcParams[\"figure.figsize\"] = (3, 3)\n",
    "for images, label in test:\n",
    "    for i, img in enumerate(images):\n",
    "        img = transforms.functional.to_pil_image(img)\n",
    "        plt.imshow(img)\n",
    "        plt.gca().set_title('Pred: {0}({1:0.2}), Label: {2}'.format(classes[pred[i]], prob[i], classes[label[i]]))\n",
    "        plt.show()\n",
    "    break"
   ]
  },
  {
   "cell_type": "markdown",
   "metadata": {},
   "source": [
    "# <font style=\"color:blue\">17. Report your findings</font>\n",
    "- \n",
    "- "
   ]
  },
  {
   "cell_type": "markdown",
   "metadata": {
    "deletable": false,
    "editable": false,
    "nbgrader": {
     "grade": false,
     "locked": true,
     "solution": false
    }
   },
   "source": [
    "# <font style=\"color:blue\">References</font>\n",
    "\n",
    "1. https://pytorch.org/tutorials/beginner/data_loading_tutorial.html\n",
    "1. https://pytorch.org/tutorials/beginner/saving_loading_models.html"
   ]
  }
 ],
 "metadata": {
  "kernelspec": {
   "display_name": "Python 3.8",
   "language": "python",
   "name": "python38"
  },
  "language_info": {
   "codemirror_mode": {
    "name": "ipython",
    "version": 3
   },
   "file_extension": ".py",
   "mimetype": "text/x-python",
   "name": "python",
   "nbconvert_exporter": "python",
   "pygments_lexer": "ipython3",
   "version": "3.8.7"
  }
 },
 "nbformat": 4,
 "nbformat_minor": 2
}
